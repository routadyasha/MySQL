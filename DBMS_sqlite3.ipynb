{
 "cells": [
  {
   "cell_type": "markdown",
   "id": "317032f0",
   "metadata": {},
   "source": [
    "# DBMS: Database Management System"
   ]
  },
  {
   "cell_type": "markdown",
   "id": "b4dcb15b",
   "metadata": {},
   "source": [
    "Whenever different tables are present and all these tables are logically related to each other and placed in one place it is called database.\n",
    "\n",
    "And the creation management maintainance and update of database is known as database management system.\n",
    "\n",
    "DBMS is of two types\n",
    "\n",
    "(i) Relational DBMS : Works with table like database\n",
    "    \n",
    "                        ex: MS SQL Server(Proprietor)\n",
    "            \n",
    "                            Oracle(Proprietor)\n",
    "                \n",
    "                            SQLite/MySQL(Free and opensource)\n",
    "                    \n",
    "                            PostgreSQL (Free and opensource)\n",
    "                        \n",
    "                            \n",
    "(ii)Non-Relational DBMS : Works with non tabular form of data like datas extracted from twitter, instagram etc.\n",
    "    \n",
    "                          Also known as No-SQL\n",
    "        \n",
    "                            ex: Cassandra \n",
    "                \n",
    "                                AmazonDB\n",
    "                    \n",
    "                                MangoDB"
   ]
  },
  {
   "cell_type": "markdown",
   "id": "063a4429",
   "metadata": {},
   "source": [
    "### SQL: Structured Query Language\n",
    "    \n",
    "With the help of SQL the end user will be albe to interact with the tables created inside the DBMS\n",
    "\n",
    "SQL is of 3 types:\n",
    "    \n",
    "    (i)DDL: Data Definition Language :- Create,ALter,Drop are the basic commands used for creation of table.\n",
    "            \n",
    "    (ii)DML: Data Manupulation Language :- Select,Update,Detele are the basic commands used for making changes in table.\n",
    "            \n",
    "    (iii)DCL: Data Control Language :- Commit,Grant,Revoke,Rollback are used to control the database.\n",
    "            \n",
    "            \n",
    "SQL QUERIES ARE NOT CASE SENSITIVE\n",
    "BUT PYTHON IS CASE SENSITIVE"
   ]
  },
  {
   "cell_type": "code",
   "execution_count": 9,
   "id": "8fc2282c",
   "metadata": {},
   "outputs": [],
   "source": [
    "import sqlite3"
   ]
  },
  {
   "cell_type": "code",
   "execution_count": 10,
   "id": "a5e997bf",
   "metadata": {},
   "outputs": [],
   "source": [
    "dbcon=sqlite3.connect('student_database')"
   ]
  },
  {
   "cell_type": "code",
   "execution_count": 11,
   "id": "26a3d59d",
   "metadata": {},
   "outputs": [],
   "source": [
    "cur=dbcon.cursor()"
   ]
  },
  {
   "cell_type": "code",
   "execution_count": 13,
   "id": "fe5d4557",
   "metadata": {},
   "outputs": [
    {
     "ename": "OperationalError",
     "evalue": "table student already exists",
     "output_type": "error",
     "traceback": [
      "\u001b[1;31m---------------------------------------------------------------------------\u001b[0m",
      "\u001b[1;31mOperationalError\u001b[0m                          Traceback (most recent call last)",
      "\u001b[1;32m~\\AppData\\Local\\Temp\\ipykernel_24532\\599430649.py\u001b[0m in \u001b[0;36m<module>\u001b[1;34m\u001b[0m\n\u001b[1;32m----> 1\u001b[1;33m \u001b[0mcur\u001b[0m\u001b[1;33m.\u001b[0m\u001b[0mexecute\u001b[0m\u001b[1;33m(\u001b[0m\u001b[1;34m'create table student(id int primary key,name text,age int)'\u001b[0m\u001b[1;33m)\u001b[0m\u001b[1;33m\u001b[0m\u001b[1;33m\u001b[0m\u001b[0m\n\u001b[0m",
      "\u001b[1;31mOperationalError\u001b[0m: table student already exists"
     ]
    }
   ],
   "source": [
    "cur.execute('create table student(id int primary key,name text,age int)')"
   ]
  },
  {
   "cell_type": "code",
   "execution_count": 14,
   "id": "ad269194",
   "metadata": {},
   "outputs": [
    {
     "ename": "IntegrityError",
     "evalue": "UNIQUE constraint failed: student.id",
     "output_type": "error",
     "traceback": [
      "\u001b[1;31m---------------------------------------------------------------------------\u001b[0m",
      "\u001b[1;31mIntegrityError\u001b[0m                            Traceback (most recent call last)",
      "\u001b[1;32m~\\AppData\\Local\\Temp\\ipykernel_24532\\1494233678.py\u001b[0m in \u001b[0;36m<module>\u001b[1;34m\u001b[0m\n\u001b[1;32m----> 1\u001b[1;33m \u001b[0mcur\u001b[0m\u001b[1;33m.\u001b[0m\u001b[0mexecute\u001b[0m\u001b[1;33m(\u001b[0m\u001b[1;34m'insert into student(id,name,age) values(1,\"andrew\",23)'\u001b[0m\u001b[1;33m)\u001b[0m\u001b[1;33m\u001b[0m\u001b[1;33m\u001b[0m\u001b[0m\n\u001b[0m",
      "\u001b[1;31mIntegrityError\u001b[0m: UNIQUE constraint failed: student.id"
     ]
    }
   ],
   "source": [
    "cur.execute('insert into student(id,name,age) values(1,\"andrew\",23)')"
   ]
  },
  {
   "cell_type": "code",
   "execution_count": 15,
   "id": "9cdc8e57",
   "metadata": {},
   "outputs": [],
   "source": [
    "dbcon.commit()"
   ]
  },
  {
   "cell_type": "code",
   "execution_count": 11,
   "id": "5fca70b6",
   "metadata": {},
   "outputs": [
    {
     "data": {
      "text/plain": [
       "<sqlite3.Cursor at 0x176497cd6c0>"
      ]
     },
     "execution_count": 11,
     "metadata": {},
     "output_type": "execute_result"
    }
   ],
   "source": [
    "cur.execute('insert into student(id,name,age) values(2,\"alex\",21)')"
   ]
  },
  {
   "cell_type": "code",
   "execution_count": 12,
   "id": "30b8aa23",
   "metadata": {},
   "outputs": [],
   "source": [
    "dbcon.commit()"
   ]
  },
  {
   "cell_type": "code",
   "execution_count": 13,
   "id": "9a51fd61",
   "metadata": {},
   "outputs": [
    {
     "data": {
      "text/plain": [
       "<sqlite3.Cursor at 0x176497cd6c0>"
      ]
     },
     "execution_count": 13,
     "metadata": {},
     "output_type": "execute_result"
    }
   ],
   "source": [
    "cur.execute('insert into student(id,name,age) values(3,\"Smith\",21)')"
   ]
  },
  {
   "cell_type": "code",
   "execution_count": 15,
   "id": "79a91614",
   "metadata": {},
   "outputs": [
    {
     "data": {
      "text/plain": [
       "<sqlite3.Cursor at 0x176497cd6c0>"
      ]
     },
     "execution_count": 15,
     "metadata": {},
     "output_type": "execute_result"
    }
   ],
   "source": [
    "cur.execute('insert into student values(4,\"kaily\",24),(5,\"Meera\",23),(6,\"Lara\",25)')"
   ]
  },
  {
   "cell_type": "code",
   "execution_count": 16,
   "id": "54de9a37",
   "metadata": {},
   "outputs": [],
   "source": [
    "dbcon.commit()"
   ]
  },
  {
   "cell_type": "code",
   "execution_count": 16,
   "id": "3db625b3",
   "metadata": {},
   "outputs": [
    {
     "name": "stdout",
     "output_type": "stream",
     "text": [
      "(1, 'andrew', 23)\n",
      "(2, 'alex', 21)\n",
      "(3, 'Smith', 21)\n",
      "(4, 'kaily', 24)\n",
      "(5, 'Meera', 23)\n",
      "(6, 'Lara', 25)\n",
      "(7, 'Will', 19)\n",
      "(8, 'Tia', 20)\n"
     ]
    }
   ],
   "source": [
    "#to view all data we use *\n",
    "results=cur.execute(\"select * from student\")\n",
    "\n",
    "for i in results:\n",
    "    print(i)"
   ]
  },
  {
   "cell_type": "code",
   "execution_count": 17,
   "id": "96d7bcc9",
   "metadata": {},
   "outputs": [
    {
     "name": "stdout",
     "output_type": "stream",
     "text": [
      "(1,)\n",
      "(2,)\n",
      "(3,)\n",
      "(4,)\n",
      "(5,)\n",
      "(6,)\n",
      "(7,)\n",
      "(8,)\n"
     ]
    }
   ],
   "source": [
    "results=cur.execute('select id from student')\n",
    "\n",
    "for i in results:\n",
    "    print(i)"
   ]
  },
  {
   "cell_type": "code",
   "execution_count": 19,
   "id": "38eb628f",
   "metadata": {},
   "outputs": [
    {
     "name": "stdout",
     "output_type": "stream",
     "text": [
      "('andrew',)\n",
      "('alex',)\n",
      "('Smith',)\n",
      "('kaily',)\n",
      "('Meera',)\n",
      "('Lara',)\n"
     ]
    }
   ],
   "source": [
    "results=cur.execute('select name from student')\n",
    "\n",
    "for i in results:\n",
    "    print(i)"
   ]
  },
  {
   "cell_type": "code",
   "execution_count": 20,
   "id": "c9506468",
   "metadata": {},
   "outputs": [
    {
     "name": "stdout",
     "output_type": "stream",
     "text": [
      "(23,)\n",
      "(21,)\n",
      "(21,)\n",
      "(24,)\n",
      "(23,)\n",
      "(25,)\n"
     ]
    }
   ],
   "source": [
    "results=cur.execute('select age from student')\n",
    "\n",
    "for i in results:\n",
    "    print(i)"
   ]
  },
  {
   "cell_type": "code",
   "execution_count": 22,
   "id": "53f9d4a5",
   "metadata": {},
   "outputs": [
    {
     "name": "stdout",
     "output_type": "stream",
     "text": [
      "(1, 'andrew', 23)\n"
     ]
    }
   ],
   "source": [
    "#to get data from particular row\n",
    "\n",
    "results=cur.execute('select * from student where id =1')\n",
    "\n",
    "for i in results:\n",
    "    print(i)"
   ]
  },
  {
   "cell_type": "code",
   "execution_count": 18,
   "id": "8df71f2c",
   "metadata": {},
   "outputs": [
    {
     "name": "stdout",
     "output_type": "stream",
     "text": [
      "(1, 'andrew', 23)\n",
      "(4, 'kaily', 24)\n",
      "(5, 'Meera', 23)\n",
      "(6, 'Lara', 25)\n"
     ]
    }
   ],
   "source": [
    "results=cur.execute('select * from student where age>21')\n",
    "\n",
    "for i in results:\n",
    "    print(i)"
   ]
  },
  {
   "cell_type": "code",
   "execution_count": 24,
   "id": "bb879a31",
   "metadata": {},
   "outputs": [
    {
     "name": "stdout",
     "output_type": "stream",
     "text": [
      "(23,)\n",
      "(24,)\n",
      "(23,)\n",
      "(25,)\n"
     ]
    }
   ],
   "source": [
    "#to get particular data\n",
    "results=cur.execute('select age from student where age>22')\n",
    "\n",
    "for i in results:\n",
    "    print(i)"
   ]
  },
  {
   "cell_type": "code",
   "execution_count": 25,
   "id": "b2147671",
   "metadata": {},
   "outputs": [
    {
     "name": "stdout",
     "output_type": "stream",
     "text": [
      "('andrew', 23)\n",
      "('Meera', 23)\n"
     ]
    }
   ],
   "source": [
    "result= cur.execute('select name,age from student where age==23')\n",
    "\n",
    "for i in results:\n",
    "    print(i)"
   ]
  },
  {
   "cell_type": "code",
   "execution_count": 29,
   "id": "4ff998b0",
   "metadata": {},
   "outputs": [
    {
     "name": "stdout",
     "output_type": "stream",
     "text": [
      "(5, 'Meera', 23)\n"
     ]
    }
   ],
   "source": [
    "result=cur.execute('select * from student where name= \"Meera\" ')\n",
    "\n",
    "for i in result:\n",
    "    print(i)"
   ]
  },
  {
   "cell_type": "code",
   "execution_count": 30,
   "id": "6e2e6238",
   "metadata": {},
   "outputs": [],
   "source": [
    "cur.execute('insert into student values(7,\"Will\",19),(8,\"Tia\",20)')\n",
    "\n",
    "dbcon.commit()"
   ]
  },
  {
   "cell_type": "code",
   "execution_count": 31,
   "id": "29f8cfc4",
   "metadata": {},
   "outputs": [
    {
     "name": "stdout",
     "output_type": "stream",
     "text": [
      "(1, 'andrew', 23)\n",
      "(2, 'alex', 21)\n",
      "(3, 'Smith', 21)\n",
      "(4, 'kaily', 24)\n",
      "(5, 'Meera', 23)\n",
      "(6, 'Lara', 25)\n",
      "(7, 'Will', 19)\n",
      "(8, 'Tia', 20)\n"
     ]
    }
   ],
   "source": [
    "result=cur.execute('select * from student')\n",
    "\n",
    "for i in result:\n",
    "    print(i)"
   ]
  },
  {
   "cell_type": "code",
   "execution_count": null,
   "id": "7e5d8b12",
   "metadata": {},
   "outputs": [],
   "source": []
  },
  {
   "cell_type": "markdown",
   "id": "73f46002",
   "metadata": {},
   "source": [
    "DT - 25/03/2023"
   ]
  },
  {
   "cell_type": "code",
   "execution_count": 2,
   "id": "339c1462",
   "metadata": {},
   "outputs": [],
   "source": [
    "import sqlite3"
   ]
  },
  {
   "cell_type": "code",
   "execution_count": 4,
   "id": "315cd551",
   "metadata": {},
   "outputs": [],
   "source": [
    "db=sqlite3.connect('student_marks')"
   ]
  },
  {
   "cell_type": "code",
   "execution_count": 19,
   "id": "dfc28b90",
   "metadata": {},
   "outputs": [],
   "source": [
    "curs=db.cursor()"
   ]
  },
  {
   "cell_type": "code",
   "execution_count": 20,
   "id": "c545a738",
   "metadata": {},
   "outputs": [
    {
     "data": {
      "text/plain": [
       "<sqlite3.Cursor at 0x24110513ea0>"
      ]
     },
     "execution_count": 20,
     "metadata": {},
     "output_type": "execute_result"
    }
   ],
   "source": [
    "curs.execute('create table marks (id int primary key, name text, marks int)')"
   ]
  },
  {
   "cell_type": "code",
   "execution_count": 22,
   "id": "7a7ff9d3",
   "metadata": {},
   "outputs": [],
   "source": [
    "curs.execute('insert into marks (id,name,marks) values(101,\"John\",56),(102,\"Joshua\",76),(103,\"Sedny\",42),(104,\"Derek\",62),(105,\"Yash\",76),(106,\"Yeeze\",84),(107,\"Frank\",90),(108,\"Ginny\",46),(109,\"Kennedy\",56),(110,\"Derek\",84)')\n",
    "db.commit()"
   ]
  },
  {
   "cell_type": "code",
   "execution_count": 26,
   "id": "2b5d9f8b",
   "metadata": {},
   "outputs": [
    {
     "name": "stdout",
     "output_type": "stream",
     "text": [
      "(101, 'John', 56)\n",
      "(102, 'Joshua', 76)\n",
      "(103, 'Sedny', 42)\n",
      "(104, 'Derek', 62)\n",
      "(105, 'Yash', 76)\n",
      "(106, 'Yeeze', 84)\n",
      "(107, 'Frank', 90)\n",
      "(108, 'Ginny', 46)\n",
      "(109, 'Kennedy', 56)\n",
      "(110, 'Derek', 84)\n"
     ]
    },
    {
     "data": {
      "text/plain": [
       "<sqlite3.Cursor at 0x24110513ea0>"
      ]
     },
     "execution_count": 26,
     "metadata": {},
     "output_type": "execute_result"
    }
   ],
   "source": [
    "result=curs.execute('select * from marks')\n",
    "for i in result:\n",
    "    print(i)\n",
    "result"
   ]
  },
  {
   "cell_type": "code",
   "execution_count": 27,
   "id": "8abe489b",
   "metadata": {},
   "outputs": [],
   "source": [
    "curs.execute('insert into marks values(111,\"Nikky\",62),(112,\"Roy\",88),(113,\"Loyala\",75),(114,\"Joshua\",94),(115,\"Fiona\",78)')\n",
    "db.commit()"
   ]
  },
  {
   "cell_type": "code",
   "execution_count": 28,
   "id": "0dc13a09",
   "metadata": {},
   "outputs": [
    {
     "data": {
      "text/plain": [
       "[(101, 'John', 56),\n",
       " (102, 'Joshua', 76),\n",
       " (103, 'Sedny', 42),\n",
       " (104, 'Derek', 62),\n",
       " (105, 'Yash', 76),\n",
       " (106, 'Yeeze', 84),\n",
       " (107, 'Frank', 90),\n",
       " (108, 'Ginny', 46),\n",
       " (109, 'Kennedy', 56),\n",
       " (110, 'Derek', 84),\n",
       " (111, 'Nikky', 62),\n",
       " (112, 'Roy', 88),\n",
       " (113, 'Loyala', 75),\n",
       " (114, 'Joshua', 94),\n",
       " (115, 'Fiona', 78)]"
      ]
     },
     "execution_count": 28,
     "metadata": {},
     "output_type": "execute_result"
    }
   ],
   "source": [
    "result=curs.execute('select * from marks')\n",
    "result.fetchall()"
   ]
  },
  {
   "cell_type": "code",
   "execution_count": 29,
   "id": "b9e4ad1e",
   "metadata": {},
   "outputs": [
    {
     "data": {
      "text/plain": [
       "[(101, 'John', 56)]"
      ]
     },
     "execution_count": 29,
     "metadata": {},
     "output_type": "execute_result"
    }
   ],
   "source": [
    "result=curs.execute('select * from marks where name=\"John\" ')\n",
    "result.fetchall()"
   ]
  },
  {
   "cell_type": "code",
   "execution_count": 30,
   "id": "cca9fcfb",
   "metadata": {},
   "outputs": [
    {
     "name": "stdout",
     "output_type": "stream",
     "text": [
      "('John',)\n",
      "('Joshua',)\n",
      "('Sedny',)\n",
      "('Derek',)\n",
      "('Yash',)\n",
      "('Yeeze',)\n",
      "('Frank',)\n",
      "('Ginny',)\n",
      "('Kennedy',)\n",
      "('Derek',)\n",
      "('Nikky',)\n",
      "('Roy',)\n",
      "('Loyala',)\n",
      "('Joshua',)\n",
      "('Fiona',)\n"
     ]
    }
   ],
   "source": [
    "result=curs.execute('select name from marks')\n",
    "for i in result:\n",
    "    print(i)"
   ]
  },
  {
   "cell_type": "code",
   "execution_count": 31,
   "id": "f3d1feeb",
   "metadata": {},
   "outputs": [
    {
     "data": {
      "text/plain": [
       "[(56,),\n",
       " (76,),\n",
       " (42,),\n",
       " (62,),\n",
       " (76,),\n",
       " (84,),\n",
       " (90,),\n",
       " (46,),\n",
       " (56,),\n",
       " (84,),\n",
       " (62,),\n",
       " (88,),\n",
       " (75,),\n",
       " (94,),\n",
       " (78,)]"
      ]
     },
     "execution_count": 31,
     "metadata": {},
     "output_type": "execute_result"
    }
   ],
   "source": [
    "result=curs.execute('select marks from marks')\n",
    "result.fetchall()"
   ]
  },
  {
   "cell_type": "code",
   "execution_count": 33,
   "id": "4788be96",
   "metadata": {},
   "outputs": [
    {
     "data": {
      "text/plain": [
       "[(101,),\n",
       " (102,),\n",
       " (103,),\n",
       " (104,),\n",
       " (105,),\n",
       " (106,),\n",
       " (107,),\n",
       " (108,),\n",
       " (109,),\n",
       " (110,),\n",
       " (111,),\n",
       " (112,),\n",
       " (113,),\n",
       " (114,),\n",
       " (115,)]"
      ]
     },
     "execution_count": 33,
     "metadata": {},
     "output_type": "execute_result"
    }
   ],
   "source": [
    "result=curs.execute('select id from marks')\n",
    "result.fetchall()"
   ]
  },
  {
   "cell_type": "code",
   "execution_count": 35,
   "id": "eddabcc3",
   "metadata": {},
   "outputs": [
    {
     "data": {
      "text/plain": [
       "[(105, 'Yash', 76)]"
      ]
     },
     "execution_count": 35,
     "metadata": {},
     "output_type": "execute_result"
    }
   ],
   "source": [
    "result=curs.execute('select * from marks where id=105')\n",
    "result.fetchall()"
   ]
  },
  {
   "cell_type": "code",
   "execution_count": 36,
   "id": "bb63749e",
   "metadata": {},
   "outputs": [
    {
     "data": {
      "text/plain": [
       "[(105, 'Yash', 76),\n",
       " (106, 'Yeeze', 84),\n",
       " (107, 'Frank', 90),\n",
       " (108, 'Ginny', 46),\n",
       " (109, 'Kennedy', 56),\n",
       " (110, 'Derek', 84),\n",
       " (111, 'Nikky', 62),\n",
       " (112, 'Roy', 88),\n",
       " (113, 'Loyala', 75),\n",
       " (114, 'Joshua', 94),\n",
       " (115, 'Fiona', 78)]"
      ]
     },
     "execution_count": 36,
     "metadata": {},
     "output_type": "execute_result"
    }
   ],
   "source": [
    "result=curs.execute('select * from marks where id>104')\n",
    "result.fetchall()"
   ]
  },
  {
   "cell_type": "code",
   "execution_count": 37,
   "id": "a0e32c18",
   "metadata": {},
   "outputs": [
    {
     "data": {
      "text/plain": [
       "[(101, 'John', 56),\n",
       " (102, 'Joshua', 76),\n",
       " (103, 'Sedny', 42),\n",
       " (104, 'Derek', 62),\n",
       " (105, 'Yash', 76),\n",
       " (106, 'Yeeze', 84),\n",
       " (107, 'Frank', 90)]"
      ]
     },
     "execution_count": 37,
     "metadata": {},
     "output_type": "execute_result"
    }
   ],
   "source": [
    "result=curs.execute('select * from marks where id<108')\n",
    "result.fetchall()"
   ]
  },
  {
   "cell_type": "code",
   "execution_count": 41,
   "id": "3a25f22f",
   "metadata": {},
   "outputs": [
    {
     "data": {
      "text/plain": [
       "[]"
      ]
     },
     "execution_count": 41,
     "metadata": {},
     "output_type": "execute_result"
    }
   ],
   "source": [
    "result=curs.execute('select * from marks where marks=65')\n",
    "result.fetchall()"
   ]
  },
  {
   "cell_type": "code",
   "execution_count": 43,
   "id": "9ecefb65",
   "metadata": {},
   "outputs": [
    {
     "data": {
      "text/plain": [
       "[(112, 'Roy', 88)]"
      ]
     },
     "execution_count": 43,
     "metadata": {},
     "output_type": "execute_result"
    }
   ],
   "source": [
    "result=curs.execute('select * from marks where marks=88')\n",
    "result.fetchall()"
   ]
  },
  {
   "cell_type": "code",
   "execution_count": 44,
   "id": "0268b8a2",
   "metadata": {},
   "outputs": [
    {
     "data": {
      "text/plain": [
       "[(101, 'John', 56),\n",
       " (102, 'Joshua', 76),\n",
       " (103, 'Sedny', 42),\n",
       " (104, 'Derek', 62),\n",
       " (105, 'Yash', 76),\n",
       " (106, 'Yeeze', 84),\n",
       " (107, 'Frank', 90),\n",
       " (108, 'Ginny', 46),\n",
       " (109, 'Kennedy', 56),\n",
       " (110, 'Derek', 84),\n",
       " (111, 'Nikky', 62),\n",
       " (112, 'Roy', 88),\n",
       " (113, 'Loyala', 75),\n",
       " (114, 'Joshua', 94),\n",
       " (115, 'Fiona', 78)]"
      ]
     },
     "execution_count": 44,
     "metadata": {},
     "output_type": "execute_result"
    }
   ],
   "source": [
    "result=curs.execute('select * from marks')\n",
    "result.fetchall()"
   ]
  },
  {
   "cell_type": "code",
   "execution_count": 45,
   "id": "8ad16644",
   "metadata": {},
   "outputs": [
    {
     "data": {
      "text/plain": [
       "[(102, 'Joshua', 76),\n",
       " (105, 'Yash', 76),\n",
       " (106, 'Yeeze', 84),\n",
       " (107, 'Frank', 90),\n",
       " (110, 'Derek', 84),\n",
       " (112, 'Roy', 88),\n",
       " (114, 'Joshua', 94),\n",
       " (115, 'Fiona', 78)]"
      ]
     },
     "execution_count": 45,
     "metadata": {},
     "output_type": "execute_result"
    }
   ],
   "source": [
    "reuslt=curs.execute('select * from marks where marks>75')\n",
    "result.fetchall()"
   ]
  },
  {
   "cell_type": "code",
   "execution_count": 46,
   "id": "2e7d9abe",
   "metadata": {},
   "outputs": [
    {
     "data": {
      "text/plain": [
       "[(101, 'John', 56),\n",
       " (102, 'Joshua', 76),\n",
       " (103, 'Sedny', 42),\n",
       " (104, 'Derek', 62),\n",
       " (105, 'Yash', 76),\n",
       " (108, 'Ginny', 46),\n",
       " (109, 'Kennedy', 56),\n",
       " (111, 'Nikky', 62),\n",
       " (113, 'Loyala', 75)]"
      ]
     },
     "execution_count": 46,
     "metadata": {},
     "output_type": "execute_result"
    }
   ],
   "source": [
    "result=curs.execute('select * from marks where marks<78')\n",
    "result.fetchall()"
   ]
  },
  {
   "cell_type": "code",
   "execution_count": 47,
   "id": "942584c9",
   "metadata": {},
   "outputs": [
    {
     "data": {
      "text/plain": [
       "[(102, 'Joshua', 76), (105, 'Yash', 76)]"
      ]
     },
     "execution_count": 47,
     "metadata": {},
     "output_type": "execute_result"
    }
   ],
   "source": [
    "result=curs.execute('select * from marks where marks=76')\n",
    "result.fetchall()"
   ]
  },
  {
   "cell_type": "code",
   "execution_count": 49,
   "id": "3f5f8709",
   "metadata": {},
   "outputs": [
    {
     "data": {
      "text/plain": [
       "[(104, 'Derek', 62), (110, 'Derek', 84)]"
      ]
     },
     "execution_count": 49,
     "metadata": {},
     "output_type": "execute_result"
    }
   ],
   "source": [
    "result=curs.execute('select * from marks where name=\"Derek\"')\n",
    "result.fetchall()"
   ]
  },
  {
   "cell_type": "code",
   "execution_count": 50,
   "id": "d793541f",
   "metadata": {},
   "outputs": [
    {
     "data": {
      "text/plain": [
       "[(101, 'John', 56),\n",
       " (102, 'Joshua', 76),\n",
       " (105, 'Yash', 76),\n",
       " (109, 'Kennedy', 56)]"
      ]
     },
     "execution_count": 50,
     "metadata": {},
     "output_type": "execute_result"
    }
   ],
   "source": [
    "result=curs.execute('select * from marks where marks in (56,66,76)')\n",
    "result.fetchall()"
   ]
  },
  {
   "cell_type": "code",
   "execution_count": 51,
   "id": "a098b2a8",
   "metadata": {},
   "outputs": [
    {
     "data": {
      "text/plain": [
       "[(103, 'Sedny', 42), (112, 'Roy', 88)]"
      ]
     },
     "execution_count": 51,
     "metadata": {},
     "output_type": "execute_result"
    }
   ],
   "source": [
    "result=curs.execute('select * from marks where marks in(42,88,92)')\n",
    "result.fetchall()"
   ]
  },
  {
   "cell_type": "code",
   "execution_count": 52,
   "id": "d12a2bd7",
   "metadata": {},
   "outputs": [
    {
     "data": {
      "text/plain": [
       "[(101, 'John', 56),\n",
       " (102, 'Joshua', 76),\n",
       " (103, 'Sedny', 42),\n",
       " (104, 'Derek', 62),\n",
       " (105, 'Yash', 76)]"
      ]
     },
     "execution_count": 52,
     "metadata": {},
     "output_type": "execute_result"
    }
   ],
   "source": [
    "result=curs.execute('select * from marks limit 5')\n",
    "result.fetchall()"
   ]
  },
  {
   "cell_type": "code",
   "execution_count": null,
   "id": "f31cbc59",
   "metadata": {},
   "outputs": [],
   "source": []
  },
  {
   "cell_type": "markdown",
   "id": "4d78eaff",
   "metadata": {},
   "source": [
    "### LOGICAL OPERATOR\n",
    "\n",
    " NOT , AND , OR , BETWEEN"
   ]
  },
  {
   "cell_type": "code",
   "execution_count": 53,
   "id": "11ae086c",
   "metadata": {},
   "outputs": [
    {
     "data": {
      "text/plain": [
       "[(101, 'John', 56),\n",
       " (102, 'Joshua', 76),\n",
       " (104, 'Derek', 62),\n",
       " (105, 'Yash', 76),\n",
       " (106, 'Yeeze', 84),\n",
       " (107, 'Frank', 90),\n",
       " (108, 'Ginny', 46),\n",
       " (110, 'Derek', 84),\n",
       " (111, 'Nikky', 62),\n",
       " (112, 'Roy', 88),\n",
       " (113, 'Loyala', 75),\n",
       " (114, 'Joshua', 94),\n",
       " (115, 'Fiona', 78)]"
      ]
     },
     "execution_count": 53,
     "metadata": {},
     "output_type": "execute_result"
    }
   ],
   "source": [
    "result=curs.execute('select * from marks where id not in (103,109)')\n",
    "result.fetchall()"
   ]
  },
  {
   "cell_type": "code",
   "execution_count": 54,
   "id": "bc744d02",
   "metadata": {},
   "outputs": [
    {
     "data": {
      "text/plain": [
       "[(104, 'Derek', 62),\n",
       " (106, 'Yeeze', 84),\n",
       " (107, 'Frank', 90),\n",
       " (108, 'Ginny', 46),\n",
       " (110, 'Derek', 84),\n",
       " (111, 'Nikky', 62),\n",
       " (113, 'Loyala', 75),\n",
       " (114, 'Joshua', 94),\n",
       " (115, 'Fiona', 78)]"
      ]
     },
     "execution_count": 54,
     "metadata": {},
     "output_type": "execute_result"
    }
   ],
   "source": [
    "result=curs.execute('select * from marks where marks not in (76,88,42,56)')\n",
    "result.fetchall()"
   ]
  },
  {
   "cell_type": "code",
   "execution_count": null,
   "id": "d8f8bcce",
   "metadata": {},
   "outputs": [],
   "source": []
  },
  {
   "cell_type": "markdown",
   "id": "5f1807bf",
   "metadata": {},
   "source": [
    "'OR' oparator gives result when if both the values are true or one of them is true, but if none of them are true then it wont give any result"
   ]
  },
  {
   "cell_type": "code",
   "execution_count": 64,
   "id": "c036e9e1",
   "metadata": {},
   "outputs": [
    {
     "data": {
      "text/plain": [
       "[(109, 'Kennedy', 56),\n",
       " (110, 'Derek', 84),\n",
       " (111, 'Nikky', 62),\n",
       " (112, 'Roy', 88),\n",
       " (113, 'Loyala', 75),\n",
       " (114, 'Joshua', 94),\n",
       " (115, 'Fiona', 78)]"
      ]
     },
     "execution_count": 64,
     "metadata": {},
     "output_type": "execute_result"
    }
   ],
   "source": [
    "result=curs.execute('select * from marks where marks=88 or id>=109')\n",
    "result.fetchall()"
   ]
  },
  {
   "cell_type": "code",
   "execution_count": 67,
   "id": "9d4e68e7",
   "metadata": {},
   "outputs": [
    {
     "data": {
      "text/plain": [
       "[(111, 'Nikky', 62)]"
      ]
     },
     "execution_count": 67,
     "metadata": {},
     "output_type": "execute_result"
    }
   ],
   "source": [
    "result=curs.execute('select * from marks where marks=62 and name=\"Nikky\"')\n",
    "result.fetchall()"
   ]
  },
  {
   "cell_type": "code",
   "execution_count": 65,
   "id": "d6c34ee4",
   "metadata": {},
   "outputs": [
    {
     "data": {
      "text/plain": [
       "[(111, 'Nikky', 62), (112, 'Roy', 88)]"
      ]
     },
     "execution_count": 65,
     "metadata": {},
     "output_type": "execute_result"
    }
   ],
   "source": [
    "result=curs.execute('select * from marks where marks=88 or id=111')\n",
    "result.fetchall()"
   ]
  },
  {
   "cell_type": "code",
   "execution_count": 68,
   "id": "ec57caa4",
   "metadata": {},
   "outputs": [
    {
     "data": {
      "text/plain": [
       "[]"
      ]
     },
     "execution_count": 68,
     "metadata": {},
     "output_type": "execute_result"
    }
   ],
   "source": [
    "result=curs.execute('select * from marks where marks =77 or id=119')\n",
    "result.fetchall()"
   ]
  },
  {
   "cell_type": "code",
   "execution_count": 72,
   "id": "12f30bf8",
   "metadata": {},
   "outputs": [
    {
     "data": {
      "text/plain": [
       "[(102, 'Joshua', 76), (103, 'Sedny', 42), (114, 'Joshua', 94)]"
      ]
     },
     "execution_count": 72,
     "metadata": {},
     "output_type": "execute_result"
    }
   ],
   "source": [
    "result=curs.execute('select* from marks where marks= 42 or name =\"Joshua\"')\n",
    "result.fetchall()"
   ]
  },
  {
   "cell_type": "code",
   "execution_count": 66,
   "id": "348345b7",
   "metadata": {},
   "outputs": [
    {
     "data": {
      "text/plain": [
       "[]"
      ]
     },
     "execution_count": 66,
     "metadata": {},
     "output_type": "execute_result"
    }
   ],
   "source": [
    "result=curs.execute('select * from marks where marks = 88 and id =102')\n",
    "result.fetchall()"
   ]
  },
  {
   "cell_type": "code",
   "execution_count": null,
   "id": "4a5548d7",
   "metadata": {},
   "outputs": [],
   "source": []
  },
  {
   "cell_type": "markdown",
   "id": "4ca2b9b6",
   "metadata": {},
   "source": [
    "'AND' operator will give result only when both the values are true if any one of them is false it wont give any result"
   ]
  },
  {
   "cell_type": "code",
   "execution_count": 69,
   "id": "e1d25753",
   "metadata": {},
   "outputs": [
    {
     "data": {
      "text/plain": [
       "[(102, 'Joshua', 76),\n",
       " (105, 'Yash', 76),\n",
       " (106, 'Yeeze', 84),\n",
       " (110, 'Derek', 84),\n",
       " (112, 'Roy', 88),\n",
       " (115, 'Fiona', 78)]"
      ]
     },
     "execution_count": 69,
     "metadata": {},
     "output_type": "execute_result"
    }
   ],
   "source": [
    "result=curs.execute('select * from marks where marks>=76 and marks <=88')\n",
    "result.fetchall()"
   ]
  },
  {
   "cell_type": "code",
   "execution_count": 70,
   "id": "5f2b1324",
   "metadata": {},
   "outputs": [
    {
     "data": {
      "text/plain": [
       "[]"
      ]
     },
     "execution_count": 70,
     "metadata": {},
     "output_type": "execute_result"
    }
   ],
   "source": [
    "result=curs.execute('select * from marks where marks > 92 and name=\"Frank\"')\n",
    "result.fetchall()"
   ]
  },
  {
   "cell_type": "code",
   "execution_count": 71,
   "id": "01f3d063",
   "metadata": {},
   "outputs": [
    {
     "data": {
      "text/plain": [
       "[(110, 'Derek', 84)]"
      ]
     },
     "execution_count": 71,
     "metadata": {},
     "output_type": "execute_result"
    }
   ],
   "source": [
    "result=curs.execute('select * from marks where marks>70 and name = \"Derek\"')\n",
    "result.fetchall()"
   ]
  },
  {
   "cell_type": "code",
   "execution_count": 73,
   "id": "127b06fe",
   "metadata": {},
   "outputs": [
    {
     "data": {
      "text/plain": [
       "[(102, 'Joshua', 76),\n",
       " (104, 'Derek', 62),\n",
       " (105, 'Yash', 76),\n",
       " (111, 'Nikky', 62),\n",
       " (113, 'Loyala', 75),\n",
       " (115, 'Fiona', 78)]"
      ]
     },
     "execution_count": 73,
     "metadata": {},
     "output_type": "execute_result"
    }
   ],
   "source": [
    "result=curs.execute('select * from marks where marks>60 and marks<80')\n",
    "result.fetchall()"
   ]
  },
  {
   "cell_type": "code",
   "execution_count": 74,
   "id": "1697826d",
   "metadata": {},
   "outputs": [
    {
     "data": {
      "text/plain": [
       "[(102, 'Joshua', 76),\n",
       " (104, 'Derek', 62),\n",
       " (105, 'Yash', 76),\n",
       " (106, 'Yeeze', 84),\n",
       " (107, 'Frank', 90),\n",
       " (110, 'Derek', 84),\n",
       " (111, 'Nikky', 62),\n",
       " (112, 'Roy', 88),\n",
       " (113, 'Loyala', 75),\n",
       " (115, 'Fiona', 78)]"
      ]
     },
     "execution_count": 74,
     "metadata": {},
     "output_type": "execute_result"
    }
   ],
   "source": [
    "result=curs.execute('select * from marks where marks>56 and marks<92')\n",
    "result.fetchall()"
   ]
  },
  {
   "cell_type": "code",
   "execution_count": 75,
   "id": "55027696",
   "metadata": {},
   "outputs": [
    {
     "data": {
      "text/plain": [
       "[(104, 'Derek', 62), (111, 'Nikky', 62)]"
      ]
     },
     "execution_count": 75,
     "metadata": {},
     "output_type": "execute_result"
    }
   ],
   "source": [
    "result=curs.execute('select * from marks where marks>60 and marks<70')\n",
    "result.fetchall()"
   ]
  },
  {
   "cell_type": "code",
   "execution_count": 90,
   "id": "90de7ebd",
   "metadata": {},
   "outputs": [
    {
     "data": {
      "text/plain": [
       "[]"
      ]
     },
     "execution_count": 90,
     "metadata": {},
     "output_type": "execute_result"
    }
   ],
   "source": [
    "result=curs.execute('select * from marks where marks=99 and name =\"Kennedy\"')\n",
    "result.fetchall()"
   ]
  },
  {
   "cell_type": "code",
   "execution_count": 91,
   "id": "33d5f402",
   "metadata": {},
   "outputs": [
    {
     "data": {
      "text/plain": [
       "[(103, 'Sedny', 42), (108, 'Ginny', 46)]"
      ]
     },
     "execution_count": 91,
     "metadata": {},
     "output_type": "execute_result"
    }
   ],
   "source": [
    "result=curs.execute('select * from marks where marks between 30 and 50')\n",
    "result.fetchall()"
   ]
  },
  {
   "cell_type": "code",
   "execution_count": 92,
   "id": "7b81e9a1",
   "metadata": {},
   "outputs": [
    {
     "data": {
      "text/plain": [
       "[(105, 'Yash', 76),\n",
       " (106, 'Yeeze', 84),\n",
       " (107, 'Frank', 90),\n",
       " (108, 'Ginny', 46),\n",
       " (109, 'Kennedy', 56),\n",
       " (110, 'Derek', 84),\n",
       " (111, 'Nikky', 62)]"
      ]
     },
     "execution_count": 92,
     "metadata": {},
     "output_type": "execute_result"
    }
   ],
   "source": [
    "result=curs.execute('select * from marks where id between 105 and 111')\n",
    "result.fetchall()"
   ]
  },
  {
   "cell_type": "code",
   "execution_count": 93,
   "id": "5f019832",
   "metadata": {},
   "outputs": [
    {
     "data": {
      "text/plain": [
       "[(101, 'John', 56),\n",
       " (102, 'Joshua', 76),\n",
       " (103, 'Sedny', 42),\n",
       " (104, 'Derek', 62),\n",
       " (105, 'Yash', 76),\n",
       " (106, 'Yeeze', 84),\n",
       " (107, 'Frank', 90),\n",
       " (108, 'Ginny', 46),\n",
       " (109, 'Kennedy', 56),\n",
       " (110, 'Derek', 84),\n",
       " (111, 'Nikky', 62),\n",
       " (112, 'Roy', 88),\n",
       " (113, 'Loyala', 75),\n",
       " (114, 'Joshua', 94),\n",
       " (115, 'Fiona', 78)]"
      ]
     },
     "execution_count": 93,
     "metadata": {},
     "output_type": "execute_result"
    }
   ],
   "source": [
    "## null and not null\n",
    "\n",
    "result=curs.execute('select * from marks where marks is not null')\n",
    "result.fetchall()"
   ]
  },
  {
   "cell_type": "code",
   "execution_count": 94,
   "id": "0b688e62",
   "metadata": {},
   "outputs": [
    {
     "data": {
      "text/plain": [
       "[]"
      ]
     },
     "execution_count": 94,
     "metadata": {},
     "output_type": "execute_result"
    }
   ],
   "source": [
    "result=curs.execute('select name from marks where name is null')\n",
    "result.fetchall()"
   ]
  },
  {
   "cell_type": "markdown",
   "id": "759d16c7",
   "metadata": {},
   "source": [
    "### ORDER BY CLAUSE"
   ]
  },
  {
   "cell_type": "markdown",
   "id": "077287ca",
   "metadata": {},
   "source": [
    "Order by clause is used to get the data in ascending or descending order"
   ]
  },
  {
   "cell_type": "code",
   "execution_count": 79,
   "id": "3f7c0b77",
   "metadata": {},
   "outputs": [
    {
     "data": {
      "text/plain": [
       "[(104, 'Derek', 62),\n",
       " (110, 'Derek', 84),\n",
       " (115, 'Fiona', 78),\n",
       " (107, 'Frank', 90),\n",
       " (108, 'Ginny', 46),\n",
       " (101, 'John', 56),\n",
       " (102, 'Joshua', 76),\n",
       " (114, 'Joshua', 94),\n",
       " (109, 'Kennedy', 56),\n",
       " (113, 'Loyala', 75),\n",
       " (111, 'Nikky', 62),\n",
       " (112, 'Roy', 88),\n",
       " (103, 'Sedny', 42),\n",
       " (105, 'Yash', 76),\n",
       " (106, 'Yeeze', 84)]"
      ]
     },
     "execution_count": 79,
     "metadata": {},
     "output_type": "execute_result"
    }
   ],
   "source": [
    "result=curs.execute('select * from marks order by name asc')\n",
    "result.fetchall()"
   ]
  },
  {
   "cell_type": "code",
   "execution_count": 80,
   "id": "4dd5116e",
   "metadata": {},
   "outputs": [
    {
     "data": {
      "text/plain": [
       "[(114, 'Joshua', 94),\n",
       " (107, 'Frank', 90),\n",
       " (112, 'Roy', 88),\n",
       " (106, 'Yeeze', 84),\n",
       " (110, 'Derek', 84),\n",
       " (115, 'Fiona', 78),\n",
       " (102, 'Joshua', 76),\n",
       " (105, 'Yash', 76),\n",
       " (113, 'Loyala', 75),\n",
       " (104, 'Derek', 62),\n",
       " (111, 'Nikky', 62),\n",
       " (101, 'John', 56),\n",
       " (109, 'Kennedy', 56),\n",
       " (108, 'Ginny', 46),\n",
       " (103, 'Sedny', 42)]"
      ]
     },
     "execution_count": 80,
     "metadata": {},
     "output_type": "execute_result"
    }
   ],
   "source": [
    "result=curs.execute('select * from marks order by marks desc')\n",
    "result.fetchall()"
   ]
  },
  {
   "cell_type": "code",
   "execution_count": 81,
   "id": "f4cb7a31",
   "metadata": {},
   "outputs": [
    {
     "data": {
      "text/plain": [
       "[(106, 'Yeeze', 84),\n",
       " (105, 'Yash', 76),\n",
       " (103, 'Sedny', 42),\n",
       " (112, 'Roy', 88),\n",
       " (111, 'Nikky', 62),\n",
       " (113, 'Loyala', 75),\n",
       " (109, 'Kennedy', 56),\n",
       " (102, 'Joshua', 76),\n",
       " (114, 'Joshua', 94),\n",
       " (101, 'John', 56),\n",
       " (108, 'Ginny', 46),\n",
       " (107, 'Frank', 90),\n",
       " (115, 'Fiona', 78),\n",
       " (104, 'Derek', 62),\n",
       " (110, 'Derek', 84)]"
      ]
     },
     "execution_count": 81,
     "metadata": {},
     "output_type": "execute_result"
    }
   ],
   "source": [
    "result=curs.execute('select * from marks order by name desc')\n",
    "result.fetchall()"
   ]
  },
  {
   "cell_type": "code",
   "execution_count": 82,
   "id": "73c9afc3",
   "metadata": {},
   "outputs": [
    {
     "data": {
      "text/plain": [
       "[(42,),\n",
       " (46,),\n",
       " (56,),\n",
       " (56,),\n",
       " (62,),\n",
       " (62,),\n",
       " (75,),\n",
       " (76,),\n",
       " (76,),\n",
       " (78,),\n",
       " (84,),\n",
       " (84,),\n",
       " (88,),\n",
       " (90,),\n",
       " (94,)]"
      ]
     },
     "execution_count": 82,
     "metadata": {},
     "output_type": "execute_result"
    }
   ],
   "source": [
    "result=curs.execute('select marks from marks order by marks asc')\n",
    "result.fetchall()"
   ]
  },
  {
   "cell_type": "code",
   "execution_count": 83,
   "id": "6eb5ad3d",
   "metadata": {},
   "outputs": [
    {
     "data": {
      "text/plain": [
       "[(115, 'Fiona', 78),\n",
       " (114, 'Joshua', 94),\n",
       " (113, 'Loyala', 75),\n",
       " (112, 'Roy', 88),\n",
       " (111, 'Nikky', 62),\n",
       " (110, 'Derek', 84),\n",
       " (109, 'Kennedy', 56),\n",
       " (108, 'Ginny', 46),\n",
       " (107, 'Frank', 90),\n",
       " (106, 'Yeeze', 84),\n",
       " (105, 'Yash', 76),\n",
       " (104, 'Derek', 62),\n",
       " (103, 'Sedny', 42),\n",
       " (102, 'Joshua', 76),\n",
       " (101, 'John', 56)]"
      ]
     },
     "execution_count": 83,
     "metadata": {},
     "output_type": "execute_result"
    }
   ],
   "source": [
    "result=curs.execute('select * from marks order by id desc')\n",
    "result.fetchall()"
   ]
  },
  {
   "cell_type": "code",
   "execution_count": null,
   "id": "df04ac81",
   "metadata": {},
   "outputs": [],
   "source": []
  },
  {
   "cell_type": "markdown",
   "id": "54184031",
   "metadata": {},
   "source": [
    "### BASIC AGGREGATE FUNCTION\n",
    "\n",
    "There are 6 types of aggregate function\n",
    "\n",
    "1. min --to find minimun\n",
    "2. max --to find maximum\n",
    "3. avg --to find average\n",
    "4. sum --to find the sum\n",
    "5. count -- to count the number of rows\n"
   ]
  },
  {
   "cell_type": "code",
   "execution_count": 84,
   "id": "7270b28d",
   "metadata": {},
   "outputs": [
    {
     "data": {
      "text/plain": [
       "[(56,),\n",
       " (76,),\n",
       " (42,),\n",
       " (62,),\n",
       " (76,),\n",
       " (84,),\n",
       " (90,),\n",
       " (46,),\n",
       " (56,),\n",
       " (84,),\n",
       " (62,),\n",
       " (88,),\n",
       " (75,),\n",
       " (94,),\n",
       " (78,)]"
      ]
     },
     "execution_count": 84,
     "metadata": {},
     "output_type": "execute_result"
    }
   ],
   "source": [
    "result=curs.execute('select marks from marks')\n",
    "result.fetchall()"
   ]
  },
  {
   "cell_type": "code",
   "execution_count": 85,
   "id": "203e4ef4",
   "metadata": {},
   "outputs": [
    {
     "data": {
      "text/plain": [
       "(42,)"
      ]
     },
     "execution_count": 85,
     "metadata": {},
     "output_type": "execute_result"
    }
   ],
   "source": [
    "# to get only minimum mark\n",
    "\n",
    "result=curs.execute('select min(marks) from marks')\n",
    "result.fetchone()"
   ]
  },
  {
   "cell_type": "code",
   "execution_count": 86,
   "id": "b6566fdb",
   "metadata": {},
   "outputs": [
    {
     "data": {
      "text/plain": [
       "(94,)"
      ]
     },
     "execution_count": 86,
     "metadata": {},
     "output_type": "execute_result"
    }
   ],
   "source": [
    "result=curs.execute('select max(marks) from marks')\n",
    "result.fetchone()"
   ]
  },
  {
   "cell_type": "code",
   "execution_count": 87,
   "id": "c668db9d",
   "metadata": {},
   "outputs": [
    {
     "data": {
      "text/plain": [
       "[(71.26666666666667,)]"
      ]
     },
     "execution_count": 87,
     "metadata": {},
     "output_type": "execute_result"
    }
   ],
   "source": [
    "result=curs.execute('select avg(marks) from marks')\n",
    "result.fetchall()"
   ]
  },
  {
   "cell_type": "code",
   "execution_count": 88,
   "id": "f823f44c",
   "metadata": {},
   "outputs": [
    {
     "data": {
      "text/plain": [
       "[(1069,)]"
      ]
     },
     "execution_count": 88,
     "metadata": {},
     "output_type": "execute_result"
    }
   ],
   "source": [
    "result=curs.execute('select sum(marks) from marks')\n",
    "result.fetchall()"
   ]
  },
  {
   "cell_type": "code",
   "execution_count": 89,
   "id": "bc972994",
   "metadata": {},
   "outputs": [
    {
     "data": {
      "text/plain": [
       "[(15,)]"
      ]
     },
     "execution_count": 89,
     "metadata": {},
     "output_type": "execute_result"
    }
   ],
   "source": [
    "result=curs.execute('select count(id) from marks')\n",
    "result.fetchall()"
   ]
  },
  {
   "cell_type": "code",
   "execution_count": null,
   "id": "b8be4313",
   "metadata": {},
   "outputs": [],
   "source": []
  },
  {
   "cell_type": "markdown",
   "id": "ab8e70af",
   "metadata": {},
   "source": [
    "### LIKE (' % ') operator\n",
    "\n",
    "% --many charecter\n",
    "\n",
    "_ --single charecter"
   ]
  },
  {
   "cell_type": "code",
   "execution_count": 98,
   "id": "af352e29",
   "metadata": {},
   "outputs": [
    {
     "data": {
      "text/plain": [
       "[]"
      ]
     },
     "execution_count": 98,
     "metadata": {},
     "output_type": "execute_result"
    }
   ],
   "source": [
    "result=curs.execute('select * from marks where name like \"A%\"')\n",
    "result.fetchall()"
   ]
  },
  {
   "cell_type": "code",
   "execution_count": 99,
   "id": "9511c6dd",
   "metadata": {},
   "outputs": [
    {
     "data": {
      "text/plain": [
       "[(107, 'Frank', 90), (115, 'Fiona', 78)]"
      ]
     },
     "execution_count": 99,
     "metadata": {},
     "output_type": "execute_result"
    }
   ],
   "source": [
    "result=curs.execute('select * from marks where name like \"f%\"')\n",
    "result.fetchall()"
   ]
  },
  {
   "cell_type": "code",
   "execution_count": 100,
   "id": "863bb089",
   "metadata": {},
   "outputs": [
    {
     "data": {
      "text/plain": [
       "[(103, 'Sedny', 42),\n",
       " (108, 'Ginny', 46),\n",
       " (109, 'Kennedy', 56),\n",
       " (111, 'Nikky', 62),\n",
       " (112, 'Roy', 88)]"
      ]
     },
     "execution_count": 100,
     "metadata": {},
     "output_type": "execute_result"
    }
   ],
   "source": [
    "result=curs.execute('select * from marks where name like \"%y\"')\n",
    "result.fetchall()"
   ]
  },
  {
   "cell_type": "code",
   "execution_count": 101,
   "id": "5347b3a8",
   "metadata": {},
   "outputs": [
    {
     "data": {
      "text/plain": [
       "[(101, 'John', 56),\n",
       " (102, 'Joshua', 76),\n",
       " (112, 'Roy', 88),\n",
       " (113, 'Loyala', 75),\n",
       " (114, 'Joshua', 94)]"
      ]
     },
     "execution_count": 101,
     "metadata": {},
     "output_type": "execute_result"
    }
   ],
   "source": [
    "result=curs.execute('select * from marks where name like \"_o%\"')\n",
    "result.fetchall()"
   ]
  },
  {
   "cell_type": "code",
   "execution_count": 102,
   "id": "fce5a266",
   "metadata": {},
   "outputs": [
    {
     "data": {
      "text/plain": [
       "[(101, 'John', 56),\n",
       " (102, 'Joshua', 76),\n",
       " (112, 'Roy', 88),\n",
       " (113, 'Loyala', 75),\n",
       " (114, 'Joshua', 94),\n",
       " (115, 'Fiona', 78)]"
      ]
     },
     "execution_count": 102,
     "metadata": {},
     "output_type": "execute_result"
    }
   ],
   "source": [
    "result=curs.execute('select * from marks where name like \"%o%\"')\n",
    "result.fetchall()"
   ]
  },
  {
   "cell_type": "code",
   "execution_count": 106,
   "id": "000bdbb8",
   "metadata": {},
   "outputs": [
    {
     "data": {
      "text/plain": [
       "[(111, 'Nikky', 62)]"
      ]
     },
     "execution_count": 106,
     "metadata": {},
     "output_type": "execute_result"
    }
   ],
   "source": [
    "result=curs.execute('select * from marks where name like \"__kk%\"')\n",
    "result.fetchall()"
   ]
  },
  {
   "cell_type": "code",
   "execution_count": 107,
   "id": "c4a7262c",
   "metadata": {},
   "outputs": [
    {
     "data": {
      "text/plain": [
       "[(108, 'Ginny', 46), (109, 'Kennedy', 56)]"
      ]
     },
     "execution_count": 107,
     "metadata": {},
     "output_type": "execute_result"
    }
   ],
   "source": [
    "result=curs.execute('select * from marks where name like \"__nn%\"')\n",
    "result.fetchall()"
   ]
  },
  {
   "cell_type": "code",
   "execution_count": 108,
   "id": "af6a3ec9",
   "metadata": {},
   "outputs": [
    {
     "data": {
      "text/plain": [
       "[(101, 'John', 56),\n",
       " (102, 'Joshua', 76),\n",
       " (105, 'Yash', 76),\n",
       " (114, 'Joshua', 94)]"
      ]
     },
     "execution_count": 108,
     "metadata": {},
     "output_type": "execute_result"
    }
   ],
   "source": [
    "result=curs.execute('select * from marks where name like \"%h%\"')\n",
    "result.fetchall()"
   ]
  },
  {
   "cell_type": "code",
   "execution_count": 109,
   "id": "daf1e3b1",
   "metadata": {},
   "outputs": [
    {
     "data": {
      "text/plain": [
       "[(102, 'Joshua', 76), (114, 'Joshua', 94)]"
      ]
     },
     "execution_count": 109,
     "metadata": {},
     "output_type": "execute_result"
    }
   ],
   "source": [
    "result=curs.execute('select * from marks where name like \"J%a\"')\n",
    "result.fetchall()"
   ]
  },
  {
   "cell_type": "code",
   "execution_count": null,
   "id": "1805c307",
   "metadata": {},
   "outputs": [],
   "source": []
  },
  {
   "cell_type": "markdown",
   "id": "540c1c42",
   "metadata": {},
   "source": [
    "### DDL, DML, DCL\n",
    "26/03/2023"
   ]
  },
  {
   "cell_type": "code",
   "execution_count": 1,
   "id": "05977cce",
   "metadata": {},
   "outputs": [],
   "source": [
    "import sqlite3"
   ]
  },
  {
   "cell_type": "code",
   "execution_count": 5,
   "id": "2d92b8f3",
   "metadata": {},
   "outputs": [],
   "source": [
    "db3=sqlite3.connect('mark3_database')\n",
    "\n",
    "cu=db3.cursor()\n",
    "\n"
   ]
  },
  {
   "cell_type": "code",
   "execution_count": 6,
   "id": "9b1e9f21",
   "metadata": {},
   "outputs": [
    {
     "data": {
      "text/plain": [
       "<sqlite3.Cursor at 0x182d6ef2490>"
      ]
     },
     "execution_count": 6,
     "metadata": {},
     "output_type": "execute_result"
    }
   ],
   "source": [
    "cu.execute('create table mark3 (id int, name text, mark int)')"
   ]
  },
  {
   "cell_type": "code",
   "execution_count": 9,
   "id": "d4e3851c",
   "metadata": {},
   "outputs": [],
   "source": [
    "db3.commit()"
   ]
  },
  {
   "cell_type": "code",
   "execution_count": 11,
   "id": "a9da8ec1",
   "metadata": {},
   "outputs": [],
   "source": [
    "cu.execute('insert into mark3(id,name,mark) values(1,\"Neha\",62), (2,\"Umang\",73),(3,\"Samaira\",67),(4,\"Tia\",90)')\n",
    "\n",
    "db3.commit()"
   ]
  },
  {
   "cell_type": "code",
   "execution_count": 13,
   "id": "06cdacec",
   "metadata": {},
   "outputs": [
    {
     "data": {
      "text/plain": [
       "[(1, 'Neha', 62), (2, 'Umang', 73), (3, 'Samaira', 67), (4, 'Tia', 90)]"
      ]
     },
     "execution_count": 13,
     "metadata": {},
     "output_type": "execute_result"
    }
   ],
   "source": [
    "res=cu.execute('select * from mark3')\n",
    "res.fetchall()"
   ]
  },
  {
   "cell_type": "code",
   "execution_count": null,
   "id": "31be3824",
   "metadata": {},
   "outputs": [],
   "source": []
  },
  {
   "cell_type": "markdown",
   "id": "57846fc3",
   "metadata": {},
   "source": [
    "### UPDATE\n",
    "\n",
    "Update works for row if you want to change some data in the table."
   ]
  },
  {
   "cell_type": "code",
   "execution_count": 15,
   "id": "27fe1665",
   "metadata": {},
   "outputs": [],
   "source": [
    "sql=\"update mark3 set mark=83 where id=3\"\n",
    "cu.execute(sql)\n",
    "db3.commit()"
   ]
  },
  {
   "cell_type": "code",
   "execution_count": 17,
   "id": "8a63c58a",
   "metadata": {},
   "outputs": [
    {
     "data": {
      "text/plain": [
       "[(1, 'Neha', 62), (2, 'Umang', 73), (3, 'Samaira', 83), (4, 'Tia', 90)]"
      ]
     },
     "execution_count": 17,
     "metadata": {},
     "output_type": "execute_result"
    }
   ],
   "source": [
    "re=cu.execute('select * from mark3')\n",
    "re.fetchall()"
   ]
  },
  {
   "cell_type": "code",
   "execution_count": 18,
   "id": "a8cc1639",
   "metadata": {},
   "outputs": [
    {
     "data": {
      "text/plain": [
       "[(1, 'Neha', 77), (2, 'Umang', 77), (3, 'Samaira', 83), (4, 'Tia', 90)]"
      ]
     },
     "execution_count": 18,
     "metadata": {},
     "output_type": "execute_result"
    }
   ],
   "source": [
    "sql=\"update mark3 set mark=77 where id in(1,2)\"\n",
    "cu.execute(sql)\n",
    "db3.commit()\n",
    "\n",
    "res=cu.execute('select * from mark3')\n",
    "res.fetchall()"
   ]
  },
  {
   "cell_type": "code",
   "execution_count": 19,
   "id": "c9bc712e",
   "metadata": {},
   "outputs": [
    {
     "data": {
      "text/plain": [
       "[(1, 'Neha', 77), (2, 'Asha', 77), (3, 'Samaira', 83), (4, 'Tia', 90)]"
      ]
     },
     "execution_count": 19,
     "metadata": {},
     "output_type": "execute_result"
    }
   ],
   "source": [
    "sql=\"update mark3 set name='Asha' where id=2\"\n",
    "cu.execute(sql)\n",
    "db3.commit()\n",
    "\n",
    "res=cu.execute('select * from mark3')\n",
    "res.fetchall()"
   ]
  },
  {
   "cell_type": "code",
   "execution_count": null,
   "id": "d5f3f1d6",
   "metadata": {},
   "outputs": [],
   "source": []
  },
  {
   "cell_type": "markdown",
   "id": "7406523b",
   "metadata": {},
   "source": [
    "### DELETE\n",
    "\n",
    "Delete command is going to delete specific row from the table"
   ]
  },
  {
   "cell_type": "code",
   "execution_count": 20,
   "id": "82a4acef",
   "metadata": {},
   "outputs": [
    {
     "data": {
      "text/plain": [
       "[(1, 'Neha', 77), (2, 'Asha', 77), (4, 'Tia', 90)]"
      ]
     },
     "execution_count": 20,
     "metadata": {},
     "output_type": "execute_result"
    }
   ],
   "source": [
    "sql=\"delete from mark3 where id=3\"\n",
    "cu.execute(sql)\n",
    "db3.commit()\n",
    "\n",
    "res=cu.execute('select *from mark3')\n",
    "res.fetchall()"
   ]
  },
  {
   "cell_type": "code",
   "execution_count": null,
   "id": "714ad699",
   "metadata": {},
   "outputs": [],
   "source": []
  },
  {
   "cell_type": "markdown",
   "id": "b4df8970",
   "metadata": {},
   "source": [
    "### DROP\n",
    "\n",
    "Drop command is going to change the structure of the table or drop the whole column from the table"
   ]
  },
  {
   "cell_type": "code",
   "execution_count": 23,
   "id": "09e8349d",
   "metadata": {},
   "outputs": [
    {
     "data": {
      "text/plain": [
       "[(1, 'Neha'), (2, 'Asha'), (4, 'Tia')]"
      ]
     },
     "execution_count": 23,
     "metadata": {},
     "output_type": "execute_result"
    }
   ],
   "source": [
    "sql='alter table mark3 drop mark'\n",
    "cu.execute(sql)\n",
    "db3.commit()\n",
    "\n",
    "res=cu.execute('select * from mark3')\n",
    "res.fetchall()"
   ]
  },
  {
   "cell_type": "code",
   "execution_count": null,
   "id": "d1c3391a",
   "metadata": {},
   "outputs": [],
   "source": []
  },
  {
   "cell_type": "markdown",
   "id": "f9f4a245",
   "metadata": {},
   "source": [
    "### Adding data in table with csv file directly"
   ]
  },
  {
   "cell_type": "code",
   "execution_count": 29,
   "id": "312dc80e",
   "metadata": {},
   "outputs": [],
   "source": [
    "#creating database\n",
    "\n",
    "db=sqlite3.connect('empdata.db')\n",
    "\n",
    "curr=db.cursor()"
   ]
  },
  {
   "cell_type": "code",
   "execution_count": 30,
   "id": "96731a83",
   "metadata": {},
   "outputs": [],
   "source": [
    "#creating table under database\n",
    "\n",
    "curr.execute('create table employee(uan int, name text, Salary int)')\n",
    "db.commit()"
   ]
  },
  {
   "cell_type": "code",
   "execution_count": null,
   "id": "a3c42e3b",
   "metadata": {},
   "outputs": [],
   "source": []
  },
  {
   "cell_type": "markdown",
   "id": "f8f3bb8a",
   "metadata": {},
   "source": [
    "### Inserting records from CSV file"
   ]
  },
  {
   "cell_type": "code",
   "execution_count": 35,
   "id": "36fa796b",
   "metadata": {},
   "outputs": [
    {
     "name": "stdout",
     "output_type": "stream",
     "text": [
      "105 Records inserted\n"
     ]
    }
   ],
   "source": [
    "with open('emp_data.csv','r') as file:   #open the csv file saved in jupyter notebook in 'r'read mode as file name\n",
    "    \n",
    "    total_records=0                     #the initial record will be zero\n",
    "    \n",
    "    for row in file:                   #the loop will go inside each and every row, count the first row aa 1 and gradually increase\n",
    "        curr.execute(\"insert into employee values(?,?,?)\",row.split(\",\"))      # the ? here is for giving dynamic data\n",
    "        db.commit()\n",
    "        total_records+=1\n",
    "print(total_records,'Records inserted')"
   ]
  },
  {
   "cell_type": "code",
   "execution_count": 40,
   "id": "eeaabde2",
   "metadata": {},
   "outputs": [
    {
     "name": "stdout",
     "output_type": "stream",
     "text": [
      "(100422664271, 'ABHIRAM BARJO', 18486)\n",
      "(100422664271, 'ABHIRAM BARJO', 18486)\n",
      "(100422664271, 'ABHIRAM BARJO', 18486)\n",
      "(100422671561, 'ABHIRAM KANDULNA', 15470)\n",
      "(100527883460, 'ALFRED MUNDA', 18486)\n",
      "(100098445825, 'ALOMONI BAGUTI', 15470)\n",
      "(100527628569, 'ANANDA MASHI SURIN', 18486)\n",
      "(100088746704, 'ARABINDA MALLICK', 15470)\n",
      "(100925716145, 'ASHADHU NAIK', 15470)\n",
      "(100618153729, 'ASRANTI KONGADI', 11925)\n",
      "(100885095130, 'BEGUNI NAIK', 15470)\n",
      "(100110297287, 'BHAJAN CHANDRA PRADHAN', 18486)\n",
      "(100778380292, 'BHARAT NAIK', 5950)\n",
      "(101551213878, 'BHARAT SINGH', 12402)\n",
      "(100919411716, 'BHIMSEN JAYPURIA', 12402)\n",
      "(101301217089, 'BIKTAR KUMAR MUNDA', 15470)\n",
      "(100115313133, 'BINOD THAPPA', 12402)\n",
      "(100794217492, 'BISHNU GOCHHAYAT', 15470)\n",
      "(101379478827, 'BISWAJIT SUTAR', 15470)\n",
      "(101343182586, 'CHANDAN MAHARANA', 13685)\n",
      "(101352271535, 'DAMU PATRA', 11305)\n",
      "(101391043816, 'DASARATH NAIK', 15470)\n",
      "(101907201577, 'DAYANIDHI PATRA', 6678)\n",
      "(100142870595, 'DEEPTI REKHA PARIDA', 18486)\n",
      "(100135706390, 'DHARAMDAS SANTYAL HARAD', 18486)\n",
      "(101610649396, 'DUKHI GOCHHAYAT', 11448)\n",
      "(101155902759, 'GEORGE HASDA', 15470)\n",
      "(100156174360, 'GOVINDA DASH', 18486)\n",
      "(101578957519, 'GUNANIDHI GOCHHAET', 10017)\n",
      "(100914434573, 'HEMANTA KUMAR BEHERA', 15470)\n",
      "(100164717706, 'HIRA GOCHHAYAT', 6678)\n",
      "(100618134748, 'IGNESH PURTY', 18486)\n",
      "(100422664791, 'ILYAS BARJO', 18486)\n",
      "(100466442567, 'JADUNATH PATRA', 15470)\n",
      "(101366511547, 'JAKRIAS TOPNO', 18486)\n",
      "(100553145673, 'JEMS NIRAL SINDURI', 18486)\n",
      "(100884247730, 'JITENDRA GOCHHAYAT', 17775)\n",
      "(100794488320, 'JITENDRA KUMAR DASH', 12402)\n",
      "(100777660834, 'JOGINDRA SETHI', 16353)\n",
      "(101907202999, 'JOHN TOPNO', 8109)\n",
      "(101512990608, 'JUNAID ALLAM', 15470)\n",
      "(100926582328, 'JUNATHAN BHUINYA', 12495)\n",
      "(100921165458, 'JUNUL BHENGRA', 10710)\n",
      "(100506750026, 'JURIA SURIN', 15470)\n",
      "(100530097731, 'KAMLESH BARLA', 18486)\n",
      "(100687994005, 'KSHIROD KUMAR MAHANTA', 18486)\n",
      "(100529706288, 'LABA PATRA', 18486)\n",
      "(101828481492, 'LALITA GOCHHAYAT', 12402)\n",
      "(100922642008, 'LEBLAN HORO', 14280)\n",
      "(100618541016, 'MADHAB CHANDRA MUNDARY', 18486)\n",
      "(100618749848, 'MAKU GOCHHAYAT', 18486)\n",
      "(101730481944, 'MANOJ KUMAR NAYAK', 15470)\n",
      "(100223591841, 'MARSALAM MANSID PURTY', 18486)\n",
      "(100422602700, 'MASI CHARAN BODRA', 18486)\n",
      "(100876463745, 'MUNA GOCHHAYAT', 12402)\n",
      "(100248701255, 'NAKULA KUMAR PATRA', 18486)\n",
      "(101398200898, 'NARAYAN PATRA', 15470)\n",
      "(100794052811, 'NARAYAN SETHY', 15470)\n",
      "(100889444465, 'NIALI NAIK', 15470)\n",
      "(100794409217, 'NIRAKAR GOCHHAYAT', 15470)\n",
      "(101514347487, 'NIRANJAN SAHOO', 12402)\n",
      "(101209770925, 'NIRUPA GOCHHAET', 12402)\n",
      "(100915462440, 'PABITRA MOHAN PATRA', 15470)\n",
      "(101514112907, 'PANKAJ KUMAR JENA', 15470)\n",
      "(100272048920, 'PITAMBAR PATRA', 14931)\n",
      "(101513851018, 'PRABIR KUMAR PRADHAN', 15470)\n",
      "(100795396160, 'PRADIP KUMAR KABI', 18486)\n",
      "(101379478836, 'PRADIP KUMAR PALLAI', 14875)\n",
      "(101417733572, 'PRAMOD KUMAR MAHAKUD', 11305)\n",
      "(101576590969, 'PRASANTA GOCHHAYAT', 11448)\n",
      "(100795443684, 'PRASANTA KUMAR NAYAK', 18486)\n",
      "(100507418561, 'PUTKAR MUNDA', 15470)\n",
      "(101730798566, 'RABI GOCHHAYAT', 12402)\n",
      "(101488313893, 'RAJ MOHAN NAIK', 15470)\n",
      "(100918212648, 'RAJESH GUDIA', 15470)\n",
      "(100794573052, 'RAKESH GOCHHAYAT', 12402)\n",
      "(101360165337, 'RAM MUNDA', 10494)\n",
      "(101703248421, 'ROHIT GOCHHAYAT', 12402)\n",
      "(100531511296, 'ROSAN MUNDA', 15470)\n",
      "(101584117321, 'SAGAR GOCHHAYAT', 12402)\n",
      "(101391043828, 'SAMIR SUTAR', 15470)\n",
      "(100528456890, 'SANTOSH KUMAR MULI', 14931)\n",
      "(100422955490, 'SASHIKANTA DASH', 18486)\n",
      "(101897283082, 'SHAMBHU KANSARI', 11925)\n",
      "(101873052392, 'SIBA DEHURI', 3339)\n",
      "(100422579389, 'SIMON HEMBRAM', 18486)\n",
      "(101897279180, 'SK ESRAR', 11925)\n",
      "(101387680993, 'SK SABIR', 14875)\n",
      "(101560352934, 'SMRUTI REKHA PARIDA', 18486)\n",
      "(101387680929, 'SUBRAT KAR', 7632)\n",
      "(100506568400, 'SUDAM NAYAK', 15470)\n",
      "(100926608492, 'SUDARSAN NAIK', 11305)\n",
      "(100794573010, 'SUDHIR GOCHHAYAT', 15470)\n",
      "(101502522764, 'SUMIT BHENGRA', 9063)\n",
      "(101417733564, 'SUNAND KUMAR NATH', 11925)\n",
      "(100916501158, 'SUNIL BANDHIA', 14875)\n",
      "(101367832981, 'SUNIL GOCHHAYAT', 14280)\n",
      "(100506953067, 'SURENDRA BEHERA', 15470)\n",
      "(100779683412, 'SURSEN TOPNO', 18486)\n",
      "(101897141700, 'SUSANTA KUMAR LENKA', 11925)\n",
      "(100888726179, 'SUSARI  BODRA', 12402)\n",
      "(100602274852, 'TRINATH MUNDA', 15470)\n",
      "(101195556061, 'TUKUNA BEHERA', 8586)\n",
      "(100794679310, 'TUNI GOCHHAYAT', 12402)\n",
      "(101728058545, 'TURAN BARJO', 15470)\n",
      "(100527621485, 'TURAN TOPNO', 15470)\n",
      "(101749452308, 'UPENDRA GOCHHAYAT', 11925)\n"
     ]
    }
   ],
   "source": [
    "res=curr.execute('select * from employee')\n",
    "for i in res:\n",
    "    print(i)"
   ]
  },
  {
   "cell_type": "code",
   "execution_count": 42,
   "id": "ae7dca78",
   "metadata": {},
   "outputs": [
    {
     "data": {
      "text/plain": [
       "('SUNIL GOCHHAYAT',)"
      ]
     },
     "execution_count": 42,
     "metadata": {},
     "output_type": "execute_result"
    }
   ],
   "source": [
    "res=curr.execute('select name from employee where uan=101367832981')\n",
    "\n",
    "res.fetchone()"
   ]
  },
  {
   "cell_type": "code",
   "execution_count": 43,
   "id": "467f894e",
   "metadata": {},
   "outputs": [
    {
     "data": {
      "text/plain": [
       "(3339,)"
      ]
     },
     "execution_count": 43,
     "metadata": {},
     "output_type": "execute_result"
    }
   ],
   "source": [
    "res=curr.execute('select min(salary) from employee')\n",
    "\n",
    "res.fetchone()"
   ]
  },
  {
   "cell_type": "code",
   "execution_count": 44,
   "id": "8f756892",
   "metadata": {},
   "outputs": [
    {
     "data": {
      "text/plain": [
       "[(18486,)]"
      ]
     },
     "execution_count": 44,
     "metadata": {},
     "output_type": "execute_result"
    }
   ],
   "source": [
    "res=curr.execute('select max(salary) from employee')\n",
    "res.fetchall()"
   ]
  },
  {
   "cell_type": "code",
   "execution_count": 45,
   "id": "8c95128a",
   "metadata": {},
   "outputs": [
    {
     "data": {
      "text/plain": [
       "[(14600.29906542056,)]"
      ]
     },
     "execution_count": 45,
     "metadata": {},
     "output_type": "execute_result"
    }
   ],
   "source": [
    "res=curr.execute('select avg(salary) from employee')\n",
    "res.fetchall()"
   ]
  },
  {
   "cell_type": "code",
   "execution_count": 46,
   "id": "2bd04b9f",
   "metadata": {},
   "outputs": [
    {
     "data": {
      "text/plain": [
       "[(1562232,)]"
      ]
     },
     "execution_count": 46,
     "metadata": {},
     "output_type": "execute_result"
    }
   ],
   "source": [
    "res=curr.execute('select sum(salary) from employee')\n",
    "\n",
    "res.fetchall()"
   ]
  },
  {
   "cell_type": "code",
   "execution_count": null,
   "id": "13fadba7",
   "metadata": {},
   "outputs": [],
   "source": []
  },
  {
   "cell_type": "markdown",
   "id": "4315ad4d",
   "metadata": {},
   "source": [
    "27-03-2023\n",
    "\n",
    "PRIMARY KEY : UNIQUE AND NOT NULL\n",
    "    \n",
    "CONSTRAINTS: \n",
    "    \n",
    "UNIQUE: enter only unique values, no duplicate values\n",
    "NOT NULL: no blank values can be inserted in table"
   ]
  },
  {
   "cell_type": "code",
   "execution_count": 1,
   "id": "50bd70dd",
   "metadata": {},
   "outputs": [],
   "source": [
    "import sqlite3\n",
    "\n",
    "db=sqlite3.connect('sports_database')"
   ]
  },
  {
   "cell_type": "code",
   "execution_count": 2,
   "id": "b78a9ede",
   "metadata": {},
   "outputs": [],
   "source": [
    "cur=db.cursor()"
   ]
  },
  {
   "cell_type": "code",
   "execution_count": 14,
   "id": "c5fb0cd8",
   "metadata": {},
   "outputs": [
    {
     "ename": "OperationalError",
     "evalue": "table sports already exists",
     "output_type": "error",
     "traceback": [
      "\u001b[1;31m---------------------------------------------------------------------------\u001b[0m",
      "\u001b[1;31mOperationalError\u001b[0m                          Traceback (most recent call last)",
      "\u001b[1;32m~\\AppData\\Local\\Temp\\ipykernel_31196\\4138495526.py\u001b[0m in \u001b[0;36m<module>\u001b[1;34m\u001b[0m\n\u001b[1;32m----> 1\u001b[1;33m \u001b[0mcur\u001b[0m\u001b[1;33m.\u001b[0m\u001b[0mexecute\u001b[0m\u001b[1;33m(\u001b[0m\u001b[1;34m\"create table sports (id int primary key, sportsname text unique, country text notnull, dateofevent date)\"\u001b[0m\u001b[1;33m)\u001b[0m\u001b[1;33m\u001b[0m\u001b[1;33m\u001b[0m\u001b[0m\n\u001b[0m\u001b[0;32m      2\u001b[0m \u001b[0mdb\u001b[0m\u001b[1;33m.\u001b[0m\u001b[0mcommit\u001b[0m\u001b[1;33m(\u001b[0m\u001b[1;33m)\u001b[0m\u001b[1;33m\u001b[0m\u001b[1;33m\u001b[0m\u001b[0m\n",
      "\u001b[1;31mOperationalError\u001b[0m: table sports already exists"
     ]
    }
   ],
   "source": [
    "cur.execute(\"create table sports (id int primary key, sportsname text unique, country text notnull, dateofevent date)\")\n",
    "db.commit()"
   ]
  },
  {
   "cell_type": "code",
   "execution_count": 7,
   "id": "94daa5f7",
   "metadata": {},
   "outputs": [
    {
     "data": {
      "text/plain": [
       "[(1, 'CRICKET', 'ENGLAND', 1991), (101, 'CRICKET', 'ENGLAND', 1991)]"
      ]
     },
     "execution_count": 7,
     "metadata": {},
     "output_type": "execute_result"
    }
   ],
   "source": [
    "cur.execute(\"insert into sports values(101,'CRICKET','ENGLAND',2022-08-23)\")\n",
    "\n",
    "res=cur.execute('select * from sports')\n",
    "res.fetchall()"
   ]
  },
  {
   "cell_type": "code",
   "execution_count": 8,
   "id": "3083df1a",
   "metadata": {},
   "outputs": [
    {
     "data": {
      "text/plain": [
       "[]"
      ]
     },
     "execution_count": 8,
     "metadata": {},
     "output_type": "execute_result"
    }
   ],
   "source": [
    "res=cur.execute('delete from sports where id=101')\n",
    "res.fetchall()"
   ]
  },
  {
   "cell_type": "code",
   "execution_count": 9,
   "id": "21cdd4ca",
   "metadata": {},
   "outputs": [
    {
     "data": {
      "text/plain": [
       "[(1, 'CRICKET', 'ENGLAND', 1991)]"
      ]
     },
     "execution_count": 9,
     "metadata": {},
     "output_type": "execute_result"
    }
   ],
   "source": [
    "res=cur.execute('select * from sports')\n",
    "res.fetchall()"
   ]
  },
  {
   "cell_type": "code",
   "execution_count": 13,
   "id": "ff265dad",
   "metadata": {},
   "outputs": [
    {
     "data": {
      "text/plain": [
       "[(1, 'CRICKET', 'ENGLAND', 1991),\n",
       " (2, 'TENNIS', 'FRANCE', '2023-03-4'),\n",
       " (3, 'TENNIS', 'FRANCE', '2023-03-4'),\n",
       " (4, 'TENNIS', 'FRANCE', '2023-03-4')]"
      ]
     },
     "execution_count": 13,
     "metadata": {},
     "output_type": "execute_result"
    }
   ],
   "source": [
    "cur.execute('insert into sports values(4,\"TENNIS\",\"FRANCE\",\"2023-03-4\")')\n",
    "db.commit()\n",
    "\n",
    "res=cur.execute('select * from sports')\n",
    "res.fetchall()"
   ]
  },
  {
   "cell_type": "code",
   "execution_count": 16,
   "id": "d6ae0514",
   "metadata": {},
   "outputs": [
    {
     "data": {
      "text/plain": [
       "[(1, 'CRICKET', 'ENGLAND', 1991),\n",
       " (2, 'TENNIS', 'FRANCE', '2023-03-4'),\n",
       " (3, 'TENNIS', 'FRANCE', '2023-03-4'),\n",
       " (4, 'TENNIS', 'FRANCE', '2023-03-4'),\n",
       " (5, 'Hockey', 'INDIA', '2023-04-23')]"
      ]
     },
     "execution_count": 16,
     "metadata": {},
     "output_type": "execute_result"
    }
   ],
   "source": [
    "cur.execute('insert into sports values(5,\"Hockey\",\"INDIA\",\"2023-04-23\")')\n",
    "db.commit()\n",
    "\n",
    "res=cur.execute('select* from sports')\n",
    "res.fetchall()"
   ]
  },
  {
   "cell_type": "code",
   "execution_count": null,
   "id": "ca12fb50",
   "metadata": {},
   "outputs": [],
   "source": []
  },
  {
   "cell_type": "markdown",
   "id": "08ba04f7",
   "metadata": {},
   "source": [
    "### EMPLOYEE database with DB and Python programmatically"
   ]
  },
  {
   "cell_type": "code",
   "execution_count": 17,
   "id": "fe57440f",
   "metadata": {},
   "outputs": [],
   "source": [
    "import sqlite3\n",
    "\n",
    "db=sqlite3.connect('emp_database')"
   ]
  },
  {
   "cell_type": "code",
   "execution_count": 33,
   "id": "2d90cec0",
   "metadata": {},
   "outputs": [],
   "source": [
    "def sql_table(db):                     #create a function\n",
    "    cur=db.cursor()                    #Create cursor\n",
    "    cur.execute(\"create table employees(id int, name text, salary int, dept text, position text,doj date)\")\n",
    "    db.commit()"
   ]
  },
  {
   "cell_type": "code",
   "execution_count": 34,
   "id": "61cb7803",
   "metadata": {},
   "outputs": [
    {
     "ename": "OperationalError",
     "evalue": "table employees already exists",
     "output_type": "error",
     "traceback": [
      "\u001b[1;31m---------------------------------------------------------------------------\u001b[0m",
      "\u001b[1;31mOperationalError\u001b[0m                          Traceback (most recent call last)",
      "\u001b[1;32m~\\AppData\\Local\\Temp\\ipykernel_31196\\531332284.py\u001b[0m in \u001b[0;36m<module>\u001b[1;34m\u001b[0m\n\u001b[1;32m----> 1\u001b[1;33m \u001b[0msql_table\u001b[0m\u001b[1;33m(\u001b[0m\u001b[0mdb\u001b[0m\u001b[1;33m)\u001b[0m                         \u001b[1;31m#call the user defined function and pass the connection db because this connection is required to\u001b[0m\u001b[1;33m\u001b[0m\u001b[1;33m\u001b[0m\u001b[0m\n\u001b[0m\u001b[0;32m      2\u001b[0m \u001b[1;33m\u001b[0m\u001b[0m\n\u001b[0;32m      3\u001b[0m \u001b[0mcur\u001b[0m\u001b[1;33m=\u001b[0m\u001b[0mdb\u001b[0m\u001b[1;33m.\u001b[0m\u001b[0mcursor\u001b[0m\u001b[1;33m(\u001b[0m\u001b[1;33m)\u001b[0m\u001b[1;33m\u001b[0m\u001b[1;33m\u001b[0m\u001b[0m\n\u001b[0;32m      4\u001b[0m \u001b[0mcur\u001b[0m\u001b[1;33m.\u001b[0m\u001b[0mexecute\u001b[0m\u001b[1;33m(\u001b[0m\u001b[1;34m\"insert into employees values('1','STEPHAN',80322,'ADMINISTRATION','MANAGER','09-04-2011')\"\u001b[0m\u001b[1;33m)\u001b[0m\u001b[1;33m\u001b[0m\u001b[1;33m\u001b[0m\u001b[0m\n\u001b[0;32m      5\u001b[0m \u001b[1;33m\u001b[0m\u001b[0m\n",
      "\u001b[1;32m~\\AppData\\Local\\Temp\\ipykernel_31196\\4257379023.py\u001b[0m in \u001b[0;36msql_table\u001b[1;34m(db)\u001b[0m\n\u001b[0;32m      1\u001b[0m \u001b[1;32mdef\u001b[0m \u001b[0msql_table\u001b[0m\u001b[1;33m(\u001b[0m\u001b[0mdb\u001b[0m\u001b[1;33m)\u001b[0m\u001b[1;33m:\u001b[0m                     \u001b[1;31m#create a function\u001b[0m\u001b[1;33m\u001b[0m\u001b[1;33m\u001b[0m\u001b[0m\n\u001b[0;32m      2\u001b[0m     \u001b[0mcur\u001b[0m\u001b[1;33m=\u001b[0m\u001b[0mdb\u001b[0m\u001b[1;33m.\u001b[0m\u001b[0mcursor\u001b[0m\u001b[1;33m(\u001b[0m\u001b[1;33m)\u001b[0m                    \u001b[1;31m#Create cursor\u001b[0m\u001b[1;33m\u001b[0m\u001b[1;33m\u001b[0m\u001b[0m\n\u001b[1;32m----> 3\u001b[1;33m     \u001b[0mcur\u001b[0m\u001b[1;33m.\u001b[0m\u001b[0mexecute\u001b[0m\u001b[1;33m(\u001b[0m\u001b[1;34m\"create table employees(id int, name text, salary int, dept text, position text,doj date)\"\u001b[0m\u001b[1;33m)\u001b[0m\u001b[1;33m\u001b[0m\u001b[1;33m\u001b[0m\u001b[0m\n\u001b[0m\u001b[0;32m      4\u001b[0m     \u001b[0mdb\u001b[0m\u001b[1;33m.\u001b[0m\u001b[0mcommit\u001b[0m\u001b[1;33m(\u001b[0m\u001b[1;33m)\u001b[0m\u001b[1;33m\u001b[0m\u001b[1;33m\u001b[0m\u001b[0m\n",
      "\u001b[1;31mOperationalError\u001b[0m: table employees already exists"
     ]
    }
   ],
   "source": [
    "sql_table(db)                         #call the user defined function and pass the connection db because this connection is required to \n",
    "\n",
    "cur=db.cursor()\n",
    "cur.execute(\"insert into employees values('1','STEPHAN',80322,'ADMINISTRATION','MANAGER','09-04-2011')\")\n",
    "\n",
    "\n",
    "res=cur.execute('select * from employees')\n",
    "res.fetchall()"
   ]
  },
  {
   "cell_type": "code",
   "execution_count": 35,
   "id": "abbb6a8a",
   "metadata": {},
   "outputs": [],
   "source": [
    "db.commit()\n",
    "\n",
    "# here all the static/manual datas are given "
   ]
  },
  {
   "cell_type": "code",
   "execution_count": 38,
   "id": "ae72673a",
   "metadata": {},
   "outputs": [],
   "source": [
    "# to provide dynamic data we need to give ? in place of values\n",
    "\n",
    "def sql_insert(db,entities):\n",
    "    cur=db.cursor()\n",
    "    cur.execute('insert into employees (id,name,salary,dept,position,doj) values(?,?,?,?,?,?)',entities)"
   ]
  },
  {
   "cell_type": "code",
   "execution_count": 39,
   "id": "2346976e",
   "metadata": {},
   "outputs": [],
   "source": [
    "entities=(2,\"DRAKE\",32932,\"HR\",\"RECRUITER\",\"2022-06-3\")\n",
    "\n",
    "sql_insert(db,entities)"
   ]
  },
  {
   "cell_type": "code",
   "execution_count": 40,
   "id": "a3d93cc3",
   "metadata": {},
   "outputs": [],
   "source": [
    "entities=(2,'DRAKE',32932,'HR','RECRUITER','2022-06-3')"
   ]
  },
  {
   "cell_type": "code",
   "execution_count": 41,
   "id": "a397fa2d",
   "metadata": {},
   "outputs": [],
   "source": [
    "sql_insert(db,entities)"
   ]
  },
  {
   "cell_type": "code",
   "execution_count": 42,
   "id": "ae075686",
   "metadata": {},
   "outputs": [],
   "source": [
    "entitties=(3,'THOMAS',40432,'IT','ENGINEER','2021-03-23')\n",
    "sql_insert(db,entities)\n",
    "entities=(4,'BELLA',123743,'IT','TESTER','2019-04-30')\n",
    "sql_insert(db,entities)\n",
    "entities=(5,'LAURA',56732,'ADMINISTRATION','ASST.MANAGERG','2016-04-17')\n",
    "sql_insert(db,entities)\n",
    "entities=(6,'JACK',32727,'HR','MANAGEGR','2018-4-8')\n",
    "sql_insert(db,entities)\n",
    "entities=(7,'ANDREW',37282,'SALES','SALES EXECUTIVE','2014-9-21')\n",
    "sql_insert(db,entities)"
   ]
  },
  {
   "cell_type": "code",
   "execution_count": 44,
   "id": "bbcb45ba",
   "metadata": {},
   "outputs": [
    {
     "data": {
      "text/plain": [
       "[(1, 'STEPHAN', 80322, 'ADMINISTRATION', 'MANAGER', '09-04-2011'),\n",
       " (2, 'DRAKE', 32932, 'HR', 'RECRUITER', '2022-06-3'),\n",
       " (2, 'DRAKE', 32932, 'HR', 'RECRUITER', '2022-06-3'),\n",
       " (2, 'DRAKE', 32932, 'HR', 'RECRUITER', '2022-06-3'),\n",
       " (4, 'BELLA', 123743, 'IT', 'TESTER', '2019-04-30'),\n",
       " (5, 'LAURA', 56732, 'ADMINISTRATION', 'ASST.MANAGERG', '2016-04-17'),\n",
       " (6, 'JACK', 32727, 'HR', 'MANAGEGR', '2018-4-8'),\n",
       " (7, 'ANDREW', 37282, 'SALES', 'SALES EXECUTIVE', '2014-9-21')]"
      ]
     },
     "execution_count": 44,
     "metadata": {},
     "output_type": "execute_result"
    }
   ],
   "source": [
    "res=cur.execute('select* from employees')\n",
    "res.fetchall()"
   ]
  },
  {
   "cell_type": "code",
   "execution_count": 47,
   "id": "cbab10bc",
   "metadata": {},
   "outputs": [
    {
     "data": {
      "text/plain": [
       "[(1, 'STEPHAN', 80322, 'ADMINISTRATION', 'MANAGER', '09-04-2011'),\n",
       " (3, 'HARRY', 32932, 'HR', 'RECRUITER', '2022-06-3'),\n",
       " (3, 'HARRY', 32932, 'HR', 'RECRUITER', '2022-06-3'),\n",
       " (3, 'HARRY', 32932, 'HR', 'RECRUITER', '2022-06-3'),\n",
       " (4, 'BELLA', 123743, 'IT', 'TESTER', '2019-04-30'),\n",
       " (5, 'LAURA', 56732, 'ADMINISTRATION', 'ASST.MANAGERG', '2016-04-17'),\n",
       " (6, 'JACK', 32727, 'HR', 'MANAGEGR', '2018-4-8'),\n",
       " (7, 'ANDREW', 37282, 'SALES', 'SALES EXECUTIVE', '2014-9-21')]"
      ]
     },
     "execution_count": 47,
     "metadata": {},
     "output_type": "execute_result"
    }
   ],
   "source": [
    "### giving sql queries\n",
    "\n",
    "#update\n",
    "cur.execute('update employees set id=3,name=\"HARRY\" where id=2')\n",
    "db.commit()\n",
    "\n",
    "res=cur.execute('select*from employees')\n",
    "res.fetchall()"
   ]
  },
  {
   "cell_type": "code",
   "execution_count": 48,
   "id": "8826f506",
   "metadata": {},
   "outputs": [],
   "source": [
    "entities=(2,'ANDREW',32532,'IT','ENGINEER','2019-5-21')\n",
    "sql_insert(db,entities)"
   ]
  },
  {
   "cell_type": "code",
   "execution_count": 49,
   "id": "3828b36e",
   "metadata": {},
   "outputs": [
    {
     "data": {
      "text/plain": [
       "[(1, 'STEPHAN', 80322, 'ADMINISTRATION', 'MANAGER', '09-04-2011'),\n",
       " (3, 'HARRY', 32932, 'HR', 'RECRUITER', '2022-06-3'),\n",
       " (3, 'HARRY', 32932, 'HR', 'RECRUITER', '2022-06-3'),\n",
       " (3, 'HARRY', 32932, 'HR', 'RECRUITER', '2022-06-3'),\n",
       " (4, 'BELLA', 123743, 'IT', 'TESTER', '2019-04-30'),\n",
       " (5, 'LAURA', 56732, 'ADMINISTRATION', 'ASST.MANAGERG', '2016-04-17'),\n",
       " (6, 'JACK', 32727, 'HR', 'MANAGEGR', '2018-4-8'),\n",
       " (7, 'ANDREW', 37282, 'SALES', 'SALES EXECUTIVE', '2014-9-21'),\n",
       " (2, 'ANDREW', 32532, 'IT', 'ENGINEER', '2019-5-21')]"
      ]
     },
     "execution_count": 49,
     "metadata": {},
     "output_type": "execute_result"
    }
   ],
   "source": [
    "res=cur.execute('select*from employees')\n",
    "res.fetchall()"
   ]
  },
  {
   "cell_type": "code",
   "execution_count": 51,
   "id": "1f9e4b77",
   "metadata": {},
   "outputs": [
    {
     "data": {
      "text/plain": [
       "[(1, 'STEPHAN', 80322, 'ADMINISTRATION', 'MANAGER', '09-04-2011'),\n",
       " (4, 'BELLA', 123743, 'IT', 'TESTER', '2019-04-30'),\n",
       " (5, 'LAURA', 56732, 'ADMINISTRATION', 'ASST.MANAGERG', '2016-04-17'),\n",
       " (6, 'JACK', 32727, 'HR', 'MANAGEGR', '2018-4-8'),\n",
       " (7, 'ANDREW', 37282, 'SALES', 'SALES EXECUTIVE', '2014-9-21'),\n",
       " (2, 'ANDREW', 32532, 'IT', 'ENGINEER', '2019-5-21')]"
      ]
     },
     "execution_count": 51,
     "metadata": {},
     "output_type": "execute_result"
    }
   ],
   "source": [
    "#delete\n",
    "\n",
    "cur.execute('delete from employees where id=3')\n",
    "db.commit()\n",
    "\n",
    "res=cur.execute('select* from employees')\n",
    "res.fetchall()"
   ]
  },
  {
   "cell_type": "code",
   "execution_count": 54,
   "id": "3acacb1b",
   "metadata": {},
   "outputs": [],
   "source": [
    "entities=(3,'HARRY',32921,'HR','RECRUITER','2019-7-15')\n",
    "sql_insert(db,entities)"
   ]
  },
  {
   "cell_type": "code",
   "execution_count": 55,
   "id": "dc11b234",
   "metadata": {},
   "outputs": [
    {
     "data": {
      "text/plain": [
       "[(1, 'STEPHAN', 80322, 'ADMINISTRATION', 'MANAGER', '09-04-2011'),\n",
       " (4, 'BELLA', 123743, 'IT', 'TESTER', '2019-04-30'),\n",
       " (5, 'LAURA', 56732, 'ADMINISTRATION', 'ASST.MANAGERG', '2016-04-17'),\n",
       " (6, 'JACK', 32727, 'HR', 'MANAGEGR', '2018-4-8'),\n",
       " (7, 'ANDREW', 37282, 'SALES', 'SALES EXECUTIVE', '2014-9-21'),\n",
       " (2, 'ANDREW', 32532, 'IT', 'ENGINEER', '2019-5-21'),\n",
       " (3, 'HARRY', 32921, 'HR', 'RECRUITER', '2019-7-15')]"
      ]
     },
     "execution_count": 55,
     "metadata": {},
     "output_type": "execute_result"
    }
   ],
   "source": [
    "res=cur.execute('select* from employees')\n",
    "res.fetchall()"
   ]
  },
  {
   "cell_type": "code",
   "execution_count": 57,
   "id": "f02294f3",
   "metadata": {},
   "outputs": [
    {
     "data": {
      "text/plain": [
       "[(1, 'STEPHAN', 80322, 'ADMINISTRATION', 'MANAGER', '09-04-2011'),\n",
       " (2, 'ANDREW', 32532, 'IT', 'ENGINEER', '2019-5-21'),\n",
       " (3, 'HARRY', 32921, 'HR', 'RECRUITER', '2019-7-15'),\n",
       " (4, 'BELLA', 123743, 'IT', 'TESTER', '2019-04-30'),\n",
       " (5, 'LAURA', 56732, 'ADMINISTRATION', 'ASST.MANAGERG', '2016-04-17'),\n",
       " (6, 'JACK', 32727, 'HR', 'MANAGEGR', '2018-4-8'),\n",
       " (7, 'ANDREW', 37282, 'SALES', 'SALES EXECUTIVE', '2014-9-21')]"
      ]
     },
     "execution_count": 57,
     "metadata": {},
     "output_type": "execute_result"
    }
   ],
   "source": [
    "res=cur.execute('select * from employees order by id asc')\n",
    "res.fetchall()"
   ]
  },
  {
   "cell_type": "code",
   "execution_count": 58,
   "id": "2f8b6134",
   "metadata": {},
   "outputs": [
    {
     "data": {
      "text/plain": [
       "[]"
      ]
     },
     "execution_count": 58,
     "metadata": {},
     "output_type": "execute_result"
    }
   ],
   "source": [
    "res=cur.execute('select * from employees where salary>20384 and name=\"HARREY\" ')\n",
    "res.fetchall()"
   ]
  },
  {
   "cell_type": "code",
   "execution_count": 63,
   "id": "aed4e02f",
   "metadata": {},
   "outputs": [
    {
     "data": {
      "text/plain": [
       "[(4, 'BELLA', 123743, 'IT', 'TESTER', '2019-04-30'),\n",
       " (5, 'LAURA', 56732, 'ADMINISTRATION', 'ASST.MANAGERG', '2016-04-17'),\n",
       " (6, 'JACK', 32727, 'HR', 'MANAGEGR', '2018-4-8'),\n",
       " (7, 'ANDREW', 37282, 'SALES', 'SALES EXECUTIVE', '2014-9-21'),\n",
       " (3, 'HARRY', 32921, 'HR', 'RECRUITER', '2019-7-15')]"
      ]
     },
     "execution_count": 63,
     "metadata": {},
     "output_type": "execute_result"
    }
   ],
   "source": [
    "res=cur.execute('select * from employees where id between 3 and 8 ')\n",
    "res.fetchall()"
   ]
  },
  {
   "cell_type": "code",
   "execution_count": 64,
   "id": "a73c09ed",
   "metadata": {},
   "outputs": [
    {
     "data": {
      "text/plain": [
       "[(396259,)]"
      ]
     },
     "execution_count": 64,
     "metadata": {},
     "output_type": "execute_result"
    }
   ],
   "source": [
    "res=cur.execute('select sum(salary) from employees')\n",
    "res.fetchall()"
   ]
  },
  {
   "cell_type": "code",
   "execution_count": 65,
   "id": "6b687ac5",
   "metadata": {},
   "outputs": [
    {
     "data": {
      "text/plain": [
       "[(32532,)]"
      ]
     },
     "execution_count": 65,
     "metadata": {},
     "output_type": "execute_result"
    }
   ],
   "source": [
    "res=cur.execute(\"select min(salary) from employees\")\n",
    "res.fetchall()"
   ]
  },
  {
   "cell_type": "code",
   "execution_count": 68,
   "id": "531d7afa",
   "metadata": {},
   "outputs": [
    {
     "data": {
      "text/plain": [
       "[(4, 'BELLA', 123743, 'IT', 'TESTER', '2019-04-30'),\n",
       " (2, 'ANDREW', 32532, 'IT', 'ENGINEER', '2019-5-21')]"
      ]
     },
     "execution_count": 68,
     "metadata": {},
     "output_type": "execute_result"
    }
   ],
   "source": [
    "res=cur.execute('select * from employees where dept=\"IT\"')\n",
    "res.fetchall()"
   ]
  },
  {
   "cell_type": "code",
   "execution_count": 69,
   "id": "1e00bdbd",
   "metadata": {},
   "outputs": [
    {
     "data": {
      "text/plain": [
       "[(7,)]"
      ]
     },
     "execution_count": 69,
     "metadata": {},
     "output_type": "execute_result"
    }
   ],
   "source": [
    "res=cur.execute('select count(id) from employees')\n",
    "res.fetchall()"
   ]
  },
  {
   "cell_type": "code",
   "execution_count": 71,
   "id": "2df3f3a2",
   "metadata": {},
   "outputs": [
    {
     "data": {
      "text/plain": [
       "[('ADMINISTRATION',), ('IT',), ('HR',), ('SALES',)]"
      ]
     },
     "execution_count": 71,
     "metadata": {},
     "output_type": "execute_result"
    }
   ],
   "source": [
    "res=cur.execute('select distinct(dept) from employees')\n",
    "res.fetchall()"
   ]
  },
  {
   "cell_type": "code",
   "execution_count": 72,
   "id": "bb554dc3",
   "metadata": {},
   "outputs": [
    {
     "data": {
      "text/plain": [
       "[('MANAGER',),\n",
       " ('TESTER',),\n",
       " ('ASST.MANAGERG',),\n",
       " ('MANAGEGR',),\n",
       " ('SALES EXECUTIVE',),\n",
       " ('ENGINEER',),\n",
       " ('RECRUITER',)]"
      ]
     },
     "execution_count": 72,
     "metadata": {},
     "output_type": "execute_result"
    }
   ],
   "source": [
    "res=cur.execute('select distinct(position) from employees')\n",
    "res.fetchall()"
   ]
  },
  {
   "cell_type": "code",
   "execution_count": 73,
   "id": "74790fcf",
   "metadata": {},
   "outputs": [
    {
     "data": {
      "text/plain": [
       "[(7,)]"
      ]
     },
     "execution_count": 73,
     "metadata": {},
     "output_type": "execute_result"
    }
   ],
   "source": [
    "res=cur.execute('select count(distinct(position)) from employees')\n",
    "res.fetchall()"
   ]
  },
  {
   "cell_type": "code",
   "execution_count": 74,
   "id": "c75625cf",
   "metadata": {},
   "outputs": [
    {
     "data": {
      "text/plain": [
       "[(137054, 'ADMINISTRATION'), (65648, 'HR'), (156275, 'IT'), (37282, 'SALES')]"
      ]
     },
     "execution_count": 74,
     "metadata": {},
     "output_type": "execute_result"
    }
   ],
   "source": [
    "res=cur.execute('select sum(salary),dept from employees group by dept')\n",
    "res.fetchall()"
   ]
  },
  {
   "cell_type": "code",
   "execution_count": 75,
   "id": "3cc2e1da",
   "metadata": {},
   "outputs": [
    {
     "data": {
      "text/plain": [
       "[(56732, 'ASST.MANAGERG'),\n",
       " (32532, 'ENGINEER'),\n",
       " (32727, 'MANAGEGR'),\n",
       " (80322, 'MANAGER'),\n",
       " (32921, 'RECRUITER'),\n",
       " (37282, 'SALES EXECUTIVE'),\n",
       " (123743, 'TESTER')]"
      ]
     },
     "execution_count": 75,
     "metadata": {},
     "output_type": "execute_result"
    }
   ],
   "source": [
    "res=cur.execute('select sum(salary),position from employees group by position')\n",
    "res.fetchall()"
   ]
  },
  {
   "cell_type": "code",
   "execution_count": 76,
   "id": "5e8c13b9",
   "metadata": {},
   "outputs": [
    {
     "data": {
      "text/plain": [
       "[(137054, 'MANAGER'),\n",
       " (65648, 'MANAGEGR'),\n",
       " (156275, 'TESTER'),\n",
       " (37282, 'SALES EXECUTIVE')]"
      ]
     },
     "execution_count": 76,
     "metadata": {},
     "output_type": "execute_result"
    }
   ],
   "source": [
    "res=cur.execute('select sum(salary),position from employees group by dept')\n",
    "res.fetchall()"
   ]
  },
  {
   "cell_type": "code",
   "execution_count": 77,
   "id": "b73f9453",
   "metadata": {},
   "outputs": [],
   "source": [
    "# we can also create function for these query\n",
    "\n",
    "#creating the function\n",
    "\n",
    "def sql_query(sql):               #creating the function\n",
    "    cur=db.cursor()               #creating the cursor\n",
    "    res=cur.execute(sql)          #creating the execution\n",
    "    return res                    #returning the execution"
   ]
  },
  {
   "cell_type": "code",
   "execution_count": 78,
   "id": "f9975f9f",
   "metadata": {},
   "outputs": [],
   "source": [
    "# make query\n",
    "sql=\"select * from employees\""
   ]
  },
  {
   "cell_type": "code",
   "execution_count": 80,
   "id": "6babae62",
   "metadata": {},
   "outputs": [
    {
     "data": {
      "text/plain": [
       "[(1, 'STEPHAN', 80322, 'ADMINISTRATION', 'MANAGER', '09-04-2011'),\n",
       " (4, 'BELLA', 123743, 'IT', 'TESTER', '2019-04-30'),\n",
       " (5, 'LAURA', 56732, 'ADMINISTRATION', 'ASST.MANAGERG', '2016-04-17'),\n",
       " (6, 'JACK', 32727, 'HR', 'MANAGEGR', '2018-4-8'),\n",
       " (7, 'ANDREW', 37282, 'SALES', 'SALES EXECUTIVE', '2014-9-21'),\n",
       " (2, 'ANDREW', 32532, 'IT', 'ENGINEER', '2019-5-21'),\n",
       " (3, 'HARRY', 32921, 'HR', 'RECRUITER', '2019-7-15')]"
      ]
     },
     "execution_count": 80,
     "metadata": {},
     "output_type": "execute_result"
    }
   ],
   "source": [
    "# calling the function\n",
    "\n",
    "respond=sql_query(sql)\n",
    "respond.fetchall()"
   ]
  },
  {
   "cell_type": "code",
   "execution_count": 83,
   "id": "9c3c3ad6",
   "metadata": {},
   "outputs": [
    {
     "data": {
      "text/plain": [
       "[('BELLA',), ('ANDREW',)]"
      ]
     },
     "execution_count": 83,
     "metadata": {},
     "output_type": "execute_result"
    }
   ],
   "source": [
    "sql=\"select name from employees where dept='IT' \"\n",
    "respond=sql_query(sql)\n",
    "respond.fetchall()"
   ]
  },
  {
   "cell_type": "code",
   "execution_count": 84,
   "id": "04358345",
   "metadata": {},
   "outputs": [
    {
     "data": {
      "text/plain": [
       "[(56608.42857142857,)]"
      ]
     },
     "execution_count": 84,
     "metadata": {},
     "output_type": "execute_result"
    }
   ],
   "source": [
    "sql=\"select avg(salary) from employees\"\n",
    "respond=sql_query(sql)\n",
    "respond.fetchall()"
   ]
  },
  {
   "cell_type": "code",
   "execution_count": 85,
   "id": "effa0272",
   "metadata": {},
   "outputs": [
    {
     "data": {
      "text/plain": [
       "[(1, 'STEPHAN', 80322, 'ADMINISTRATION', 'MANAGER', '09-04-2011'),\n",
       " (5, 'LAURA', 56732, 'ADMINISTRATION', 'ASST.MANAGERG', '2016-04-17'),\n",
       " (6, 'JACK', 32727, 'HR', 'MANAGEGR', '2018-4-8'),\n",
       " (3, 'HARRY', 32921, 'HR', 'RECRUITER', '2019-7-15'),\n",
       " (4, 'BELLA', 123743, 'IT', 'TESTER', '2019-04-30'),\n",
       " (7, 'ANDREW', 37282, 'SALES', 'SALES EXECUTIVE', '2014-9-21'),\n",
       " (2, 'ANDREW', 32532, 'IT', 'ENGINEER', '2019-5-21')]"
      ]
     },
     "execution_count": 85,
     "metadata": {},
     "output_type": "execute_result"
    }
   ],
   "source": [
    "sql=\"select * from employees order by name desc\"\n",
    "res=sql_query(sql)\n",
    "res.fetchall()"
   ]
  },
  {
   "cell_type": "code",
   "execution_count": 86,
   "id": "16f98491",
   "metadata": {},
   "outputs": [
    {
     "data": {
      "text/plain": [
       "[(137054, 'ADMINISTRATION'), (65648, 'HR'), (156275, 'IT'), (37282, 'SALES')]"
      ]
     },
     "execution_count": 86,
     "metadata": {},
     "output_type": "execute_result"
    }
   ],
   "source": [
    "sql=\"select sum(salary),dept from employees group by dept\"\n",
    "res=sql_query(sql)\n",
    "res.fetchall()"
   ]
  },
  {
   "cell_type": "code",
   "execution_count": null,
   "id": "5805c6e8",
   "metadata": {},
   "outputs": [],
   "source": []
  },
  {
   "cell_type": "code",
   "execution_count": null,
   "id": "7dacb898",
   "metadata": {},
   "outputs": [],
   "source": []
  },
  {
   "cell_type": "code",
   "execution_count": null,
   "id": "df4e99fd",
   "metadata": {},
   "outputs": [],
   "source": []
  },
  {
   "cell_type": "code",
   "execution_count": null,
   "id": "5dc4012c",
   "metadata": {},
   "outputs": [],
   "source": []
  },
  {
   "cell_type": "code",
   "execution_count": null,
   "id": "2c656be2",
   "metadata": {},
   "outputs": [],
   "source": []
  },
  {
   "cell_type": "markdown",
   "id": "702ac53a",
   "metadata": {},
   "source": [
    "# Referential Integrity\n",
    "\n",
    "used to maintain data consistancy between two tables"
   ]
  },
  {
   "cell_type": "code",
   "execution_count": 1,
   "id": "3fe9ad20",
   "metadata": {},
   "outputs": [],
   "source": [
    "import sqlite3\n"
   ]
  },
  {
   "cell_type": "code",
   "execution_count": 2,
   "id": "b0cf4c23",
   "metadata": {},
   "outputs": [],
   "source": [
    "db=sqlite3.connect('course_database')"
   ]
  },
  {
   "cell_type": "code",
   "execution_count": 5,
   "id": "a117efbd",
   "metadata": {},
   "outputs": [],
   "source": [
    "cur=db.cursor()"
   ]
  },
  {
   "cell_type": "code",
   "execution_count": 7,
   "id": "e47aefc0",
   "metadata": {},
   "outputs": [
    {
     "ename": "OperationalError",
     "evalue": "table student already exists",
     "output_type": "error",
     "traceback": [
      "\u001b[1;31m---------------------------------------------------------------------------\u001b[0m",
      "\u001b[1;31mOperationalError\u001b[0m                          Traceback (most recent call last)",
      "\u001b[1;32m~\\AppData\\Local\\Temp\\ipykernel_21976\\1285276516.py\u001b[0m in \u001b[0;36m<module>\u001b[1;34m\u001b[0m\n\u001b[1;32m----> 1\u001b[1;33m \u001b[0mcur\u001b[0m\u001b[1;33m.\u001b[0m\u001b[0mexecute\u001b[0m\u001b[1;33m(\u001b[0m\u001b[1;34m'create table student (id int primary key, name text, age int,course_id int)'\u001b[0m\u001b[1;33m)\u001b[0m\u001b[1;33m\u001b[0m\u001b[1;33m\u001b[0m\u001b[0m\n\u001b[0m\u001b[0;32m      2\u001b[0m \u001b[0mdb\u001b[0m\u001b[1;33m.\u001b[0m\u001b[0mcommit\u001b[0m\u001b[1;33m\u001b[0m\u001b[1;33m\u001b[0m\u001b[0m\n",
      "\u001b[1;31mOperationalError\u001b[0m: table student already exists"
     ]
    }
   ],
   "source": [
    "cur.execute('create table student (id int primary key, name text, age int,course_id int)')\n",
    "db.commit"
   ]
  },
  {
   "cell_type": "code",
   "execution_count": 11,
   "id": "b0f09a7d",
   "metadata": {},
   "outputs": [
    {
     "data": {
      "text/plain": [
       "[]"
      ]
     },
     "execution_count": 11,
     "metadata": {},
     "output_type": "execute_result"
    }
   ],
   "source": [
    "res=cur.execute('select * from student')\n",
    "\n",
    "res.fetchall()"
   ]
  },
  {
   "cell_type": "code",
   "execution_count": 13,
   "id": "07b5302a",
   "metadata": {},
   "outputs": [],
   "source": [
    "cur.execute('create table course (courseid int,cname text,time int)')\n",
    "db.commit()"
   ]
  },
  {
   "cell_type": "code",
   "execution_count": 15,
   "id": "0844f120",
   "metadata": {},
   "outputs": [
    {
     "data": {
      "text/plain": [
       "<sqlite3.Cursor at 0x2e1feba5ea0>"
      ]
     },
     "execution_count": 15,
     "metadata": {},
     "output_type": "execute_result"
    }
   ],
   "source": [
    "cur.execute('create table students(roll_no int,name text, age int, courseid int,foreign key(courseid) references course(courseid))')\n"
   ]
  },
  {
   "cell_type": "code",
   "execution_count": 17,
   "id": "fb9b7eb4",
   "metadata": {},
   "outputs": [],
   "source": [
    "cur.execute(\"insert into course values(75,'DataScience',12),(12,'DSA',4),(24,'FULLSTACK',3),(34,'AWS/DEVOPS',4)\")\n",
    "db.commit()"
   ]
  },
  {
   "cell_type": "code",
   "execution_count": 21,
   "id": "4e9c9f08",
   "metadata": {},
   "outputs": [],
   "source": [
    "cur.execute(\"insert into students values(1,'Alana',23,75),(2,'Garima',32,12),(3,'Travis',25,24),(4,'Sammy',21,75),(5,'Kenny',22,12),(6,'Paula',21,34),(7,'Issak',20,24),(8,'Danny',22,34)\")\n",
    "db.commit()"
   ]
  },
  {
   "cell_type": "code",
   "execution_count": 22,
   "id": "d32fc556",
   "metadata": {},
   "outputs": [
    {
     "data": {
      "text/plain": [
       "[(1, 'Alana', 23, 75),\n",
       " (2, 'Garima', 32, 12),\n",
       " (3, 'Travis', 25, 24),\n",
       " (4, 'Sammy', 21, 75),\n",
       " (5, 'Kenny', 22, 12),\n",
       " (6, 'Paula', 21, 34),\n",
       " (7, 'Issak', 20, 24),\n",
       " (8, 'Danny', 22, 34)]"
      ]
     },
     "execution_count": 22,
     "metadata": {},
     "output_type": "execute_result"
    }
   ],
   "source": [
    "res=cur.execute('select * from students')\n",
    "res.fetchall()"
   ]
  },
  {
   "cell_type": "code",
   "execution_count": 24,
   "id": "dc216de7",
   "metadata": {},
   "outputs": [],
   "source": [
    "cur.execute(\"insert into students values(9,'Rudolf',22,Null),(10,'Jems',23,Null)\")\n",
    "db.commit()"
   ]
  },
  {
   "cell_type": "code",
   "execution_count": 26,
   "id": "36431d6a",
   "metadata": {},
   "outputs": [
    {
     "data": {
      "text/plain": [
       "[(1, 'Alana', 23, 75),\n",
       " (2, 'Garima', 32, 12),\n",
       " (3, 'Travis', 25, 24),\n",
       " (4, 'Sammy', 21, 75),\n",
       " (5, 'Kenny', 22, 12),\n",
       " (6, 'Paula', 21, 34),\n",
       " (7, 'Issak', 20, 24),\n",
       " (8, 'Danny', 22, 34),\n",
       " (9, 'Rudolf', 22, None),\n",
       " (10, 'Jems', 23, None)]"
      ]
     },
     "execution_count": 26,
     "metadata": {},
     "output_type": "execute_result"
    }
   ],
   "source": [
    "res=cur.execute('select*from students')\n",
    "res.fetchall()"
   ]
  },
  {
   "cell_type": "code",
   "execution_count": 28,
   "id": "ecfc20d4",
   "metadata": {},
   "outputs": [
    {
     "data": {
      "text/plain": [
       "[(24,), (24,)]"
      ]
     },
     "execution_count": 28,
     "metadata": {},
     "output_type": "execute_result"
    }
   ],
   "source": [
    "res=cur.execute('select courseid from course where cname=\"FULLSTACK\"')\n",
    "res.fetchall()"
   ]
  },
  {
   "cell_type": "code",
   "execution_count": 30,
   "id": "afa0a92a",
   "metadata": {},
   "outputs": [
    {
     "data": {
      "text/plain": [
       "[(12,), (12,)]"
      ]
     },
     "execution_count": 30,
     "metadata": {},
     "output_type": "execute_result"
    }
   ],
   "source": [
    "res=cur.execute('select courseid from course where cname=\"DSA\"')\n",
    "res.fetchall()"
   ]
  },
  {
   "cell_type": "code",
   "execution_count": 31,
   "id": "7141ffd2",
   "metadata": {},
   "outputs": [
    {
     "data": {
      "text/plain": [
       "[(34,), (34,)]"
      ]
     },
     "execution_count": 31,
     "metadata": {},
     "output_type": "execute_result"
    }
   ],
   "source": [
    "res=cur.execute('select courseid from course where cname=\"AWS/DEVOPS\"')\n",
    "res.fetchall()"
   ]
  },
  {
   "cell_type": "markdown",
   "id": "f4e89947",
   "metadata": {},
   "source": [
    "## Subquery"
   ]
  },
  {
   "cell_type": "code",
   "execution_count": 34,
   "id": "54ecd988",
   "metadata": {},
   "outputs": [
    {
     "data": {
      "text/plain": [
       "[(6, 'Paula', 21, 34), (8, 'Danny', 22, 34)]"
      ]
     },
     "execution_count": 34,
     "metadata": {},
     "output_type": "execute_result"
    }
   ],
   "source": [
    "res=cur.execute('select * from students where courseid=(select courseid from course where cname=\"AWS/DEVOPS\")')\n",
    "res.fetchall()"
   ]
  },
  {
   "cell_type": "code",
   "execution_count": 35,
   "id": "5cd87015",
   "metadata": {},
   "outputs": [
    {
     "data": {
      "text/plain": [
       "[(3, 'Travis', 25, 24), (7, 'Issak', 20, 24)]"
      ]
     },
     "execution_count": 35,
     "metadata": {},
     "output_type": "execute_result"
    }
   ],
   "source": [
    "res=cur.execute('select * from students where courseid=(select courseid from course where time=3)')\n",
    "res.fetchall()"
   ]
  },
  {
   "cell_type": "code",
   "execution_count": 45,
   "id": "6e1739e3",
   "metadata": {},
   "outputs": [
    {
     "data": {
      "text/plain": [
       "[(75, 'DataScience', 12), (75, 'DataScience', 12)]"
      ]
     },
     "execution_count": 45,
     "metadata": {},
     "output_type": "execute_result"
    }
   ],
   "source": [
    "res=cur.execute('select * from course where courseid=(select courseid from students where roll_no=1)')\n",
    "res.fetchall()"
   ]
  },
  {
   "cell_type": "code",
   "execution_count": null,
   "id": "833f2074",
   "metadata": {},
   "outputs": [],
   "source": []
  },
  {
   "cell_type": "markdown",
   "id": "9ed2f160",
   "metadata": {},
   "source": [
    "## JOIN"
   ]
  },
  {
   "cell_type": "markdown",
   "id": "92843051",
   "metadata": {},
   "source": [
    "Inner Join: Returns matching values in both the sides\n",
    "Left Join: Returns left side value\n",
    "Right Join: Returns right side value"
   ]
  },
  {
   "cell_type": "markdown",
   "id": "fc57f659",
   "metadata": {},
   "source": [
    "### INNER JOIN"
   ]
  },
  {
   "cell_type": "code",
   "execution_count": 47,
   "id": "21c15190",
   "metadata": {},
   "outputs": [
    {
     "data": {
      "text/plain": [
       "[(1, 'Alana', 'DataScience', 75),\n",
       " (1, 'Alana', 'DSA', 12),\n",
       " (1, 'Alana', 'FULLSTACK', 24),\n",
       " (1, 'Alana', 'AWS/DEVOPS', 34),\n",
       " (1, 'Alana', 'DataScience', 75),\n",
       " (1, 'Alana', 'DSA', 12),\n",
       " (1, 'Alana', 'FULLSTACK', 24),\n",
       " (1, 'Alana', 'AWS/DEVOPS', 34),\n",
       " (2, 'Garima', 'DataScience', 75),\n",
       " (2, 'Garima', 'DSA', 12),\n",
       " (2, 'Garima', 'FULLSTACK', 24),\n",
       " (2, 'Garima', 'AWS/DEVOPS', 34),\n",
       " (2, 'Garima', 'DataScience', 75),\n",
       " (2, 'Garima', 'DSA', 12),\n",
       " (2, 'Garima', 'FULLSTACK', 24),\n",
       " (2, 'Garima', 'AWS/DEVOPS', 34),\n",
       " (3, 'Travis', 'DataScience', 75),\n",
       " (3, 'Travis', 'DSA', 12),\n",
       " (3, 'Travis', 'FULLSTACK', 24),\n",
       " (3, 'Travis', 'AWS/DEVOPS', 34),\n",
       " (3, 'Travis', 'DataScience', 75),\n",
       " (3, 'Travis', 'DSA', 12),\n",
       " (3, 'Travis', 'FULLSTACK', 24),\n",
       " (3, 'Travis', 'AWS/DEVOPS', 34),\n",
       " (4, 'Sammy', 'DataScience', 75),\n",
       " (4, 'Sammy', 'DSA', 12),\n",
       " (4, 'Sammy', 'FULLSTACK', 24),\n",
       " (4, 'Sammy', 'AWS/DEVOPS', 34),\n",
       " (4, 'Sammy', 'DataScience', 75),\n",
       " (4, 'Sammy', 'DSA', 12),\n",
       " (4, 'Sammy', 'FULLSTACK', 24),\n",
       " (4, 'Sammy', 'AWS/DEVOPS', 34),\n",
       " (5, 'Kenny', 'DataScience', 75),\n",
       " (5, 'Kenny', 'DSA', 12),\n",
       " (5, 'Kenny', 'FULLSTACK', 24),\n",
       " (5, 'Kenny', 'AWS/DEVOPS', 34),\n",
       " (5, 'Kenny', 'DataScience', 75),\n",
       " (5, 'Kenny', 'DSA', 12),\n",
       " (5, 'Kenny', 'FULLSTACK', 24),\n",
       " (5, 'Kenny', 'AWS/DEVOPS', 34),\n",
       " (6, 'Paula', 'DataScience', 75),\n",
       " (6, 'Paula', 'DSA', 12),\n",
       " (6, 'Paula', 'FULLSTACK', 24),\n",
       " (6, 'Paula', 'AWS/DEVOPS', 34),\n",
       " (6, 'Paula', 'DataScience', 75),\n",
       " (6, 'Paula', 'DSA', 12),\n",
       " (6, 'Paula', 'FULLSTACK', 24),\n",
       " (6, 'Paula', 'AWS/DEVOPS', 34),\n",
       " (7, 'Issak', 'DataScience', 75),\n",
       " (7, 'Issak', 'DSA', 12),\n",
       " (7, 'Issak', 'FULLSTACK', 24),\n",
       " (7, 'Issak', 'AWS/DEVOPS', 34),\n",
       " (7, 'Issak', 'DataScience', 75),\n",
       " (7, 'Issak', 'DSA', 12),\n",
       " (7, 'Issak', 'FULLSTACK', 24),\n",
       " (7, 'Issak', 'AWS/DEVOPS', 34),\n",
       " (8, 'Danny', 'DataScience', 75),\n",
       " (8, 'Danny', 'DSA', 12),\n",
       " (8, 'Danny', 'FULLSTACK', 24),\n",
       " (8, 'Danny', 'AWS/DEVOPS', 34),\n",
       " (8, 'Danny', 'DataScience', 75),\n",
       " (8, 'Danny', 'DSA', 12),\n",
       " (8, 'Danny', 'FULLSTACK', 24),\n",
       " (8, 'Danny', 'AWS/DEVOPS', 34),\n",
       " (9, 'Rudolf', 'DataScience', 75),\n",
       " (9, 'Rudolf', 'DSA', 12),\n",
       " (9, 'Rudolf', 'FULLSTACK', 24),\n",
       " (9, 'Rudolf', 'AWS/DEVOPS', 34),\n",
       " (9, 'Rudolf', 'DataScience', 75),\n",
       " (9, 'Rudolf', 'DSA', 12),\n",
       " (9, 'Rudolf', 'FULLSTACK', 24),\n",
       " (9, 'Rudolf', 'AWS/DEVOPS', 34),\n",
       " (10, 'Jems', 'DataScience', 75),\n",
       " (10, 'Jems', 'DSA', 12),\n",
       " (10, 'Jems', 'FULLSTACK', 24),\n",
       " (10, 'Jems', 'AWS/DEVOPS', 34),\n",
       " (10, 'Jems', 'DataScience', 75),\n",
       " (10, 'Jems', 'DSA', 12),\n",
       " (10, 'Jems', 'FULLSTACK', 24),\n",
       " (10, 'Jems', 'AWS/DEVOPS', 34)]"
      ]
     },
     "execution_count": 47,
     "metadata": {},
     "output_type": "execute_result"
    }
   ],
   "source": [
    "res=cur.execute(\"select students.roll_no,students.name,course.cname,course.courseid FROM students inner join course\")\n",
    "res.fetchall()"
   ]
  },
  {
   "cell_type": "code",
   "execution_count": 48,
   "id": "1d316f1a",
   "metadata": {},
   "outputs": [
    {
     "data": {
      "text/plain": [
       "[(1, 'Alana', 'DataScience', 75),\n",
       " (1, 'Alana', 'DataScience', 75),\n",
       " (2, 'Garima', 'DSA', 12),\n",
       " (2, 'Garima', 'DSA', 12),\n",
       " (3, 'Travis', 'FULLSTACK', 24),\n",
       " (3, 'Travis', 'FULLSTACK', 24),\n",
       " (4, 'Sammy', 'DataScience', 75),\n",
       " (4, 'Sammy', 'DataScience', 75),\n",
       " (5, 'Kenny', 'DSA', 12),\n",
       " (5, 'Kenny', 'DSA', 12),\n",
       " (6, 'Paula', 'AWS/DEVOPS', 34),\n",
       " (6, 'Paula', 'AWS/DEVOPS', 34),\n",
       " (7, 'Issak', 'FULLSTACK', 24),\n",
       " (7, 'Issak', 'FULLSTACK', 24),\n",
       " (8, 'Danny', 'AWS/DEVOPS', 34),\n",
       " (8, 'Danny', 'AWS/DEVOPS', 34)]"
      ]
     },
     "execution_count": 48,
     "metadata": {},
     "output_type": "execute_result"
    }
   ],
   "source": [
    "res=cur.execute(\"select students.roll_no,students.name,course.cname,course.courseid FROM students inner join course on students.courseid=course.courseid\")\n",
    "res.fetchall()"
   ]
  },
  {
   "cell_type": "markdown",
   "id": "87ae736c",
   "metadata": {},
   "source": [
    "### LEFT JOIN"
   ]
  },
  {
   "cell_type": "code",
   "execution_count": 49,
   "id": "7cf0fadb",
   "metadata": {},
   "outputs": [
    {
     "data": {
      "text/plain": [
       "[(1, 'Alana', 75, 'DataScience'),\n",
       " (1, 'Alana', 75, 'DataScience'),\n",
       " (2, 'Garima', 12, 'DSA'),\n",
       " (2, 'Garima', 12, 'DSA'),\n",
       " (3, 'Travis', 24, 'FULLSTACK'),\n",
       " (3, 'Travis', 24, 'FULLSTACK'),\n",
       " (4, 'Sammy', 75, 'DataScience'),\n",
       " (4, 'Sammy', 75, 'DataScience'),\n",
       " (5, 'Kenny', 12, 'DSA'),\n",
       " (5, 'Kenny', 12, 'DSA'),\n",
       " (6, 'Paula', 34, 'AWS/DEVOPS'),\n",
       " (6, 'Paula', 34, 'AWS/DEVOPS'),\n",
       " (7, 'Issak', 24, 'FULLSTACK'),\n",
       " (7, 'Issak', 24, 'FULLSTACK'),\n",
       " (8, 'Danny', 34, 'AWS/DEVOPS'),\n",
       " (8, 'Danny', 34, 'AWS/DEVOPS'),\n",
       " (9, 'Rudolf', None, None),\n",
       " (10, 'Jems', None, None)]"
      ]
     },
     "execution_count": 49,
     "metadata": {},
     "output_type": "execute_result"
    }
   ],
   "source": [
    "res=cur.execute(\"select students.roll_no,students.name,course.courseid,course.cname from students left join course on students.courseid = course.courseid\")\n",
    "res.fetchall()"
   ]
  },
  {
   "cell_type": "code",
   "execution_count": 52,
   "id": "8807e827",
   "metadata": {},
   "outputs": [
    {
     "data": {
      "text/plain": [
       "[('Alana', 1, 75, 'DataScience'),\n",
       " ('Sammy', 4, 75, 'DataScience'),\n",
       " ('Garima', 2, 12, 'DSA'),\n",
       " ('Kenny', 5, 12, 'DSA'),\n",
       " ('Travis', 3, 24, 'FULLSTACK'),\n",
       " ('Issak', 7, 24, 'FULLSTACK'),\n",
       " ('Paula', 6, 34, 'AWS/DEVOPS'),\n",
       " ('Danny', 8, 34, 'AWS/DEVOPS'),\n",
       " ('Alana', 1, 75, 'DataScience'),\n",
       " ('Sammy', 4, 75, 'DataScience'),\n",
       " ('Garima', 2, 12, 'DSA'),\n",
       " ('Kenny', 5, 12, 'DSA'),\n",
       " ('Travis', 3, 24, 'FULLSTACK'),\n",
       " ('Issak', 7, 24, 'FULLSTACK'),\n",
       " ('Paula', 6, 34, 'AWS/DEVOPS'),\n",
       " ('Danny', 8, 34, 'AWS/DEVOPS')]"
      ]
     },
     "execution_count": 52,
     "metadata": {},
     "output_type": "execute_result"
    }
   ],
   "source": [
    "res=cur.execute('select students.name,students.roll_no,course.courseid,course.cname from course left join students on students.courseid=course.courseid')\n",
    "res.fetchall()"
   ]
  },
  {
   "cell_type": "markdown",
   "id": "4c81c978",
   "metadata": {},
   "source": [
    "sqlite3 doesn't support right join and full join "
   ]
  },
  {
   "cell_type": "code",
   "execution_count": null,
   "id": "5d87f3bc",
   "metadata": {},
   "outputs": [],
   "source": []
  },
  {
   "cell_type": "markdown",
   "id": "8a67a5e6",
   "metadata": {},
   "source": [
    "## MySQL"
   ]
  },
  {
   "cell_type": "code",
   "execution_count": 1,
   "id": "169d5074",
   "metadata": {},
   "outputs": [
    {
     "name": "stdout",
     "output_type": "stream",
     "text": [
      "Collecting mysql\n",
      "  Downloading mysql-0.0.3-py3-none-any.whl (1.2 kB)\n",
      "Collecting mysqlclient\n",
      "  Downloading mysqlclient-2.1.1-cp39-cp39-win_amd64.whl (178 kB)\n",
      "     ------------------------------------ 178.5/178.5 kB 716.1 kB/s eta 0:00:00\n",
      "Installing collected packages: mysqlclient, mysql\n",
      "Successfully installed mysql-0.0.3 mysqlclient-2.1.1\n"
     ]
    }
   ],
   "source": [
    "!pip install mysql"
   ]
  },
  {
   "cell_type": "code",
   "execution_count": 8,
   "id": "3dc96176",
   "metadata": {},
   "outputs": [
    {
     "ename": "ModuleNotFoundError",
     "evalue": "No module named 'mysql'",
     "output_type": "error",
     "traceback": [
      "\u001b[1;31m---------------------------------------------------------------------------\u001b[0m",
      "\u001b[1;31mModuleNotFoundError\u001b[0m                       Traceback (most recent call last)",
      "\u001b[1;32m~\\AppData\\Local\\Temp\\ipykernel_40728\\4131037277.py\u001b[0m in \u001b[0;36m<module>\u001b[1;34m\u001b[0m\n\u001b[1;32m----> 1\u001b[1;33m \u001b[1;32mimport\u001b[0m \u001b[0mmysql\u001b[0m\u001b[1;33m.\u001b[0m\u001b[0mconnector\u001b[0m\u001b[1;33m\u001b[0m\u001b[1;33m\u001b[0m\u001b[0m\n\u001b[0m",
      "\u001b[1;31mModuleNotFoundError\u001b[0m: No module named 'mysql'"
     ]
    }
   ],
   "source": [
    "import mysql.connector"
   ]
  },
  {
   "cell_type": "code",
   "execution_count": 9,
   "id": "7f9bfb93",
   "metadata": {},
   "outputs": [
    {
     "ename": "NameError",
     "evalue": "name 'mysql' is not defined",
     "output_type": "error",
     "traceback": [
      "\u001b[1;31m---------------------------------------------------------------------------\u001b[0m",
      "\u001b[1;31mNameError\u001b[0m                                 Traceback (most recent call last)",
      "\u001b[1;32m~\\AppData\\Local\\Temp\\ipykernel_40728\\52673052.py\u001b[0m in \u001b[0;36m<module>\u001b[1;34m\u001b[0m\n\u001b[1;32m----> 1\u001b[1;33m db=mysql.connector.connect(\n\u001b[0m\u001b[0;32m      2\u001b[0m     \u001b[0mhost\u001b[0m\u001b[1;33m=\u001b[0m\u001b[1;34m\"localhost\"\u001b[0m\u001b[1;33m,\u001b[0m\u001b[1;33m\u001b[0m\u001b[1;33m\u001b[0m\u001b[0m\n\u001b[0;32m      3\u001b[0m     \u001b[0muser\u001b[0m\u001b[1;33m=\u001b[0m\u001b[1;34m\"adyasharout\"\u001b[0m\u001b[1;33m,\u001b[0m\u001b[1;33m\u001b[0m\u001b[1;33m\u001b[0m\u001b[0m\n\u001b[0;32m      4\u001b[0m     \u001b[0mpassword\u001b[0m\u001b[1;33m=\u001b[0m\u001b[1;34m\"AdyashaRout@08\"\u001b[0m\u001b[1;33m\u001b[0m\u001b[1;33m\u001b[0m\u001b[0m\n\u001b[0;32m      5\u001b[0m )\n",
      "\u001b[1;31mNameError\u001b[0m: name 'mysql' is not defined"
     ]
    }
   ],
   "source": [
    "db=mysql.connector.connect(\n",
    "    host=\"localhost\",\n",
    "    user=\"adyasharout\",\n",
    "    password=\"AdyashaRout@08\"\n",
    ")\n",
    "print(db)"
   ]
  },
  {
   "cell_type": "code",
   "execution_count": null,
   "id": "cffae9e7",
   "metadata": {},
   "outputs": [],
   "source": []
  },
  {
   "cell_type": "code",
   "execution_count": null,
   "id": "0adfb909",
   "metadata": {},
   "outputs": [],
   "source": []
  },
  {
   "cell_type": "code",
   "execution_count": null,
   "id": "7472e1e7",
   "metadata": {},
   "outputs": [],
   "source": []
  }
 ],
 "metadata": {
  "kernelspec": {
   "display_name": "Python 3 (ipykernel)",
   "language": "python",
   "name": "python3"
  },
  "language_info": {
   "codemirror_mode": {
    "name": "ipython",
    "version": 3
   },
   "file_extension": ".py",
   "mimetype": "text/x-python",
   "name": "python",
   "nbconvert_exporter": "python",
   "pygments_lexer": "ipython3",
   "version": "3.9.13"
  }
 },
 "nbformat": 4,
 "nbformat_minor": 5
}
