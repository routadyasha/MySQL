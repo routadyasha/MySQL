{
 "cells": [
  {
   "cell_type": "code",
   "execution_count": 22,
   "id": "8bc81f5b",
   "metadata": {},
   "outputs": [
    {
     "name": "stdout",
     "output_type": "stream",
     "text": [
      "Requirement already satisfied: mysql in c:\\users\\23ady\\anaconda3\\lib\\site-packages (0.0.3)\n",
      "Requirement already satisfied: mysqlclient in c:\\users\\23ady\\anaconda3\\lib\\site-packages (from mysql) (2.1.1)\n"
     ]
    }
   ],
   "source": [
    "!pip install mysql"
   ]
  },
  {
   "cell_type": "code",
   "execution_count": 23,
   "id": "b74eb064",
   "metadata": {},
   "outputs": [
    {
     "name": "stdout",
     "output_type": "stream",
     "text": [
      "Requirement already satisfied: mysql-connector-python in c:\\users\\23ady\\anaconda3\\lib\\site-packages (8.0.32)\n",
      "Requirement already satisfied: protobuf<=3.20.3,>=3.11.0 in c:\\users\\23ady\\anaconda3\\lib\\site-packages (from mysql-connector-python) (3.20.3)\n"
     ]
    }
   ],
   "source": [
    "!pip install mysql-connector-python"
   ]
  },
  {
   "cell_type": "code",
   "execution_count": 2,
   "id": "14a6a651",
   "metadata": {},
   "outputs": [],
   "source": [
    "import mysql.connector"
   ]
  },
  {
   "cell_type": "code",
   "execution_count": 3,
   "id": "d61737a9",
   "metadata": {},
   "outputs": [
    {
     "name": "stdout",
     "output_type": "stream",
     "text": [
      "<mysql.connector.connection_cext.CMySQLConnection object at 0x000001B6B180F670>\n"
     ]
    }
   ],
   "source": [
    "db=mysql.connector.connect(\n",
    "    host=\"localhost\",\n",
    "    user=\"root\",\n",
    "    password=\"AdyashaRout@08\"\n",
    ")\n",
    "print(db)"
   ]
  },
  {
   "cell_type": "code",
   "execution_count": 4,
   "id": "128d160e",
   "metadata": {},
   "outputs": [],
   "source": [
    "cur=db.cursor()"
   ]
  },
  {
   "cell_type": "code",
   "execution_count": 5,
   "id": "ac2cf49a",
   "metadata": {},
   "outputs": [],
   "source": [
    "cur.execute(\"show databases\")"
   ]
  },
  {
   "cell_type": "code",
   "execution_count": 6,
   "id": "cc7b3f3e",
   "metadata": {},
   "outputs": [
    {
     "name": "stdout",
     "output_type": "stream",
     "text": [
      "('adyashadb',)\n",
      "('database1',)\n",
      "('information_schema',)\n",
      "('mysql',)\n",
      "('performance_schema',)\n",
      "('sys',)\n"
     ]
    }
   ],
   "source": [
    "for i in cur:\n",
    "    print(i)"
   ]
  },
  {
   "cell_type": "code",
   "execution_count": 7,
   "id": "680212be",
   "metadata": {},
   "outputs": [
    {
     "ename": "DatabaseError",
     "evalue": "1007 (HY000): Can't create database 'database1'; database exists",
     "output_type": "error",
     "traceback": [
      "\u001b[1;31m---------------------------------------------------------------------------\u001b[0m",
      "\u001b[1;31mMySQLInterfaceError\u001b[0m                       Traceback (most recent call last)",
      "\u001b[1;32m~\\anaconda3\\lib\\site-packages\\mysql\\connector\\connection_cext.py\u001b[0m in \u001b[0;36mcmd_query\u001b[1;34m(self, query, raw, buffered, raw_as_string)\u001b[0m\n\u001b[0;32m    607\u001b[0m                 \u001b[0mquery\u001b[0m \u001b[1;33m=\u001b[0m \u001b[0mquery\u001b[0m\u001b[1;33m.\u001b[0m\u001b[0mencode\u001b[0m\u001b[1;33m(\u001b[0m\u001b[1;34m\"utf-8\"\u001b[0m\u001b[1;33m)\u001b[0m\u001b[1;33m\u001b[0m\u001b[1;33m\u001b[0m\u001b[0m\n\u001b[1;32m--> 608\u001b[1;33m             self._cmysql.query(\n\u001b[0m\u001b[0;32m    609\u001b[0m                 \u001b[0mquery\u001b[0m\u001b[1;33m,\u001b[0m\u001b[1;33m\u001b[0m\u001b[1;33m\u001b[0m\u001b[0m\n",
      "\u001b[1;31mMySQLInterfaceError\u001b[0m: Can't create database 'database1'; database exists",
      "\nThe above exception was the direct cause of the following exception:\n",
      "\u001b[1;31mDatabaseError\u001b[0m                             Traceback (most recent call last)",
      "\u001b[1;32m~\\AppData\\Local\\Temp\\ipykernel_16804\\4109083521.py\u001b[0m in \u001b[0;36m<module>\u001b[1;34m\u001b[0m\n\u001b[1;32m----> 1\u001b[1;33m \u001b[0mcur\u001b[0m\u001b[1;33m.\u001b[0m\u001b[0mexecute\u001b[0m\u001b[1;33m(\u001b[0m\u001b[1;34m\"create database database1\"\u001b[0m\u001b[1;33m)\u001b[0m\u001b[1;33m\u001b[0m\u001b[1;33m\u001b[0m\u001b[0m\n\u001b[0m",
      "\u001b[1;32m~\\anaconda3\\lib\\site-packages\\mysql\\connector\\cursor_cext.py\u001b[0m in \u001b[0;36mexecute\u001b[1;34m(self, operation, params, multi)\u001b[0m\n\u001b[0;32m    328\u001b[0m \u001b[1;33m\u001b[0m\u001b[0m\n\u001b[0;32m    329\u001b[0m         \u001b[1;32mtry\u001b[0m\u001b[1;33m:\u001b[0m\u001b[1;33m\u001b[0m\u001b[1;33m\u001b[0m\u001b[0m\n\u001b[1;32m--> 330\u001b[1;33m             result = self._cnx.cmd_query(\n\u001b[0m\u001b[0;32m    331\u001b[0m                 \u001b[0mstmt\u001b[0m\u001b[1;33m,\u001b[0m\u001b[1;33m\u001b[0m\u001b[1;33m\u001b[0m\u001b[0m\n\u001b[0;32m    332\u001b[0m                 \u001b[0mraw\u001b[0m\u001b[1;33m=\u001b[0m\u001b[0mself\u001b[0m\u001b[1;33m.\u001b[0m\u001b[0m_raw\u001b[0m\u001b[1;33m,\u001b[0m\u001b[1;33m\u001b[0m\u001b[1;33m\u001b[0m\u001b[0m\n",
      "\u001b[1;32m~\\anaconda3\\lib\\site-packages\\mysql\\connector\\connection_cext.py\u001b[0m in \u001b[0;36mcmd_query\u001b[1;34m(self, query, raw, buffered, raw_as_string)\u001b[0m\n\u001b[0;32m    614\u001b[0m             )\n\u001b[0;32m    615\u001b[0m         \u001b[1;32mexcept\u001b[0m \u001b[0mMySQLInterfaceError\u001b[0m \u001b[1;32mas\u001b[0m \u001b[0merr\u001b[0m\u001b[1;33m:\u001b[0m\u001b[1;33m\u001b[0m\u001b[1;33m\u001b[0m\u001b[0m\n\u001b[1;32m--> 616\u001b[1;33m             raise get_mysql_exception(\n\u001b[0m\u001b[0;32m    617\u001b[0m                 \u001b[0merr\u001b[0m\u001b[1;33m.\u001b[0m\u001b[0merrno\u001b[0m\u001b[1;33m,\u001b[0m \u001b[0mmsg\u001b[0m\u001b[1;33m=\u001b[0m\u001b[0merr\u001b[0m\u001b[1;33m.\u001b[0m\u001b[0mmsg\u001b[0m\u001b[1;33m,\u001b[0m \u001b[0msqlstate\u001b[0m\u001b[1;33m=\u001b[0m\u001b[0merr\u001b[0m\u001b[1;33m.\u001b[0m\u001b[0msqlstate\u001b[0m\u001b[1;33m\u001b[0m\u001b[1;33m\u001b[0m\u001b[0m\n\u001b[0;32m    618\u001b[0m             ) from err\n",
      "\u001b[1;31mDatabaseError\u001b[0m: 1007 (HY000): Can't create database 'database1'; database exists"
     ]
    }
   ],
   "source": [
    "cur.execute(\"create database database1\")"
   ]
  },
  {
   "cell_type": "code",
   "execution_count": 8,
   "id": "ab06543a",
   "metadata": {},
   "outputs": [
    {
     "name": "stdout",
     "output_type": "stream",
     "text": [
      "('adyashadb',)\n",
      "('database1',)\n",
      "('information_schema',)\n",
      "('mysql',)\n",
      "('performance_schema',)\n",
      "('sys',)\n"
     ]
    }
   ],
   "source": [
    "cur.execute(\"show databases\")\n",
    "for i in cur:\n",
    "    print(i)"
   ]
  },
  {
   "cell_type": "code",
   "execution_count": 9,
   "id": "09450fb6",
   "metadata": {},
   "outputs": [],
   "source": [
    "db=mysql.connector.connect(\n",
    "    host=\"localhost\",\n",
    "    user=\"root\",\n",
    "    password=\"AdyashaRout@08\",\n",
    "    database=\"database1\",\n",
    ")"
   ]
  },
  {
   "cell_type": "code",
   "execution_count": 10,
   "id": "3daa8437",
   "metadata": {},
   "outputs": [
    {
     "ename": "ProgrammingError",
     "evalue": "1050 (42S01): Table 'school' already exists",
     "output_type": "error",
     "traceback": [
      "\u001b[1;31m---------------------------------------------------------------------------\u001b[0m",
      "\u001b[1;31mMySQLInterfaceError\u001b[0m                       Traceback (most recent call last)",
      "\u001b[1;32m~\\anaconda3\\lib\\site-packages\\mysql\\connector\\connection_cext.py\u001b[0m in \u001b[0;36mcmd_query\u001b[1;34m(self, query, raw, buffered, raw_as_string)\u001b[0m\n\u001b[0;32m    607\u001b[0m                 \u001b[0mquery\u001b[0m \u001b[1;33m=\u001b[0m \u001b[0mquery\u001b[0m\u001b[1;33m.\u001b[0m\u001b[0mencode\u001b[0m\u001b[1;33m(\u001b[0m\u001b[1;34m\"utf-8\"\u001b[0m\u001b[1;33m)\u001b[0m\u001b[1;33m\u001b[0m\u001b[1;33m\u001b[0m\u001b[0m\n\u001b[1;32m--> 608\u001b[1;33m             self._cmysql.query(\n\u001b[0m\u001b[0;32m    609\u001b[0m                 \u001b[0mquery\u001b[0m\u001b[1;33m,\u001b[0m\u001b[1;33m\u001b[0m\u001b[1;33m\u001b[0m\u001b[0m\n",
      "\u001b[1;31mMySQLInterfaceError\u001b[0m: Table 'school' already exists",
      "\nThe above exception was the direct cause of the following exception:\n",
      "\u001b[1;31mProgrammingError\u001b[0m                          Traceback (most recent call last)",
      "\u001b[1;32m~\\AppData\\Local\\Temp\\ipykernel_16804\\2221956285.py\u001b[0m in \u001b[0;36m<module>\u001b[1;34m\u001b[0m\n\u001b[0;32m      1\u001b[0m \u001b[0mcur\u001b[0m\u001b[1;33m=\u001b[0m\u001b[0mdb\u001b[0m\u001b[1;33m.\u001b[0m\u001b[0mcursor\u001b[0m\u001b[1;33m(\u001b[0m\u001b[1;33m)\u001b[0m\u001b[1;33m\u001b[0m\u001b[1;33m\u001b[0m\u001b[0m\n\u001b[1;32m----> 2\u001b[1;33m \u001b[0mcur\u001b[0m\u001b[1;33m.\u001b[0m\u001b[0mexecute\u001b[0m\u001b[1;33m(\u001b[0m\u001b[1;34m\"create table school(gender varchar(6),student_id int(10),marks int(3))\"\u001b[0m\u001b[1;33m)\u001b[0m\u001b[1;33m\u001b[0m\u001b[1;33m\u001b[0m\u001b[0m\n\u001b[0m",
      "\u001b[1;32m~\\anaconda3\\lib\\site-packages\\mysql\\connector\\cursor_cext.py\u001b[0m in \u001b[0;36mexecute\u001b[1;34m(self, operation, params, multi)\u001b[0m\n\u001b[0;32m    328\u001b[0m \u001b[1;33m\u001b[0m\u001b[0m\n\u001b[0;32m    329\u001b[0m         \u001b[1;32mtry\u001b[0m\u001b[1;33m:\u001b[0m\u001b[1;33m\u001b[0m\u001b[1;33m\u001b[0m\u001b[0m\n\u001b[1;32m--> 330\u001b[1;33m             result = self._cnx.cmd_query(\n\u001b[0m\u001b[0;32m    331\u001b[0m                 \u001b[0mstmt\u001b[0m\u001b[1;33m,\u001b[0m\u001b[1;33m\u001b[0m\u001b[1;33m\u001b[0m\u001b[0m\n\u001b[0;32m    332\u001b[0m                 \u001b[0mraw\u001b[0m\u001b[1;33m=\u001b[0m\u001b[0mself\u001b[0m\u001b[1;33m.\u001b[0m\u001b[0m_raw\u001b[0m\u001b[1;33m,\u001b[0m\u001b[1;33m\u001b[0m\u001b[1;33m\u001b[0m\u001b[0m\n",
      "\u001b[1;32m~\\anaconda3\\lib\\site-packages\\mysql\\connector\\connection_cext.py\u001b[0m in \u001b[0;36mcmd_query\u001b[1;34m(self, query, raw, buffered, raw_as_string)\u001b[0m\n\u001b[0;32m    614\u001b[0m             )\n\u001b[0;32m    615\u001b[0m         \u001b[1;32mexcept\u001b[0m \u001b[0mMySQLInterfaceError\u001b[0m \u001b[1;32mas\u001b[0m \u001b[0merr\u001b[0m\u001b[1;33m:\u001b[0m\u001b[1;33m\u001b[0m\u001b[1;33m\u001b[0m\u001b[0m\n\u001b[1;32m--> 616\u001b[1;33m             raise get_mysql_exception(\n\u001b[0m\u001b[0;32m    617\u001b[0m                 \u001b[0merr\u001b[0m\u001b[1;33m.\u001b[0m\u001b[0merrno\u001b[0m\u001b[1;33m,\u001b[0m \u001b[0mmsg\u001b[0m\u001b[1;33m=\u001b[0m\u001b[0merr\u001b[0m\u001b[1;33m.\u001b[0m\u001b[0mmsg\u001b[0m\u001b[1;33m,\u001b[0m \u001b[0msqlstate\u001b[0m\u001b[1;33m=\u001b[0m\u001b[0merr\u001b[0m\u001b[1;33m.\u001b[0m\u001b[0msqlstate\u001b[0m\u001b[1;33m\u001b[0m\u001b[1;33m\u001b[0m\u001b[0m\n\u001b[0;32m    618\u001b[0m             ) from err\n",
      "\u001b[1;31mProgrammingError\u001b[0m: 1050 (42S01): Table 'school' already exists"
     ]
    }
   ],
   "source": [
    "cur=db.cursor()\n",
    "cur.execute(\"create table school(gender varchar(6),student_id int(10),marks int(3))\")"
   ]
  },
  {
   "cell_type": "code",
   "execution_count": 11,
   "id": "784813f9",
   "metadata": {},
   "outputs": [
    {
     "name": "stdout",
     "output_type": "stream",
     "text": [
      "('school',)\n"
     ]
    }
   ],
   "source": [
    "cur.execute(\"show tables\")\n",
    "for i in cur:\n",
    "    print(i)"
   ]
  },
  {
   "cell_type": "markdown",
   "id": "d9f6a85c",
   "metadata": {},
   "source": [
    "## Data insertion inside table"
   ]
  },
  {
   "cell_type": "markdown",
   "id": "5b574789",
   "metadata": {},
   "source": [
    "#### single data insertion"
   ]
  },
  {
   "cell_type": "code",
   "execution_count": 12,
   "id": "4fe96a20",
   "metadata": {},
   "outputs": [
    {
     "name": "stdout",
     "output_type": "stream",
     "text": [
      "1 recurd inserted\n"
     ]
    }
   ],
   "source": [
    "sql=\"insert into school (gender,student_id,marks) values('male',123456789,43)\"\n",
    "cur.execute(sql)\n",
    "print(cur.rowcount,\"recurd inserted\")"
   ]
  },
  {
   "cell_type": "code",
   "execution_count": 13,
   "id": "fcf225c5",
   "metadata": {},
   "outputs": [],
   "source": [
    "db.commit()"
   ]
  },
  {
   "cell_type": "markdown",
   "id": "9fddb0a1",
   "metadata": {},
   "source": [
    "#### Multiple record insertion"
   ]
  },
  {
   "cell_type": "code",
   "execution_count": 14,
   "id": "93ecccd4",
   "metadata": {},
   "outputs": [],
   "source": [
    "sql=\"insert into school(gender,student_id,marks) values ('male',234567891,67),('female',345678912,52),('male',567891234,82),('male',78912345,66),('female',891234567,55),('female',912345678,63)\""
   ]
  },
  {
   "cell_type": "code",
   "execution_count": 15,
   "id": "663c1d44",
   "metadata": {},
   "outputs": [
    {
     "name": "stdout",
     "output_type": "stream",
     "text": [
      "6 record inserted\n"
     ]
    }
   ],
   "source": [
    "cur.execute(sql)\n",
    "print(cur.rowcount,'record inserted')"
   ]
  },
  {
   "cell_type": "code",
   "execution_count": 16,
   "id": "b3157b6e",
   "metadata": {},
   "outputs": [],
   "source": [
    "db.commit()"
   ]
  },
  {
   "cell_type": "markdown",
   "id": "80b03747",
   "metadata": {},
   "source": [
    "#### Another way of inserting records"
   ]
  },
  {
   "cell_type": "code",
   "execution_count": 17,
   "id": "a6740720",
   "metadata": {},
   "outputs": [
    {
     "name": "stdout",
     "output_type": "stream",
     "text": [
      "4 record inserted\n"
     ]
    }
   ],
   "source": [
    "sql=\"insert into school (gender,student_id,marks) values(%s,%s,%s)\"\n",
    "val=(('male',24682465,79),('female',1357913,83),('male',13616356,58),('male',73464619,72))\n",
    "cur.executemany(sql,val)\n",
    "print(cur.rowcount,'record inserted')"
   ]
  },
  {
   "cell_type": "code",
   "execution_count": 18,
   "id": "338fd64a",
   "metadata": {},
   "outputs": [],
   "source": [
    "db.commit()"
   ]
  },
  {
   "cell_type": "markdown",
   "id": "4cc31e5c",
   "metadata": {},
   "source": [
    "#### Data Selection"
   ]
  },
  {
   "cell_type": "code",
   "execution_count": 19,
   "id": "d604be95",
   "metadata": {},
   "outputs": [
    {
     "name": "stdout",
     "output_type": "stream",
     "text": [
      "('male', 123456789, 43)\n",
      "('male', 234567891, 67)\n",
      "('female', 345678912, 52)\n",
      "('male', 567891234, 82)\n",
      "('male', 78912345, 66)\n",
      "('female', 891234567, 55)\n",
      "('female', 912345678, 63)\n",
      "('male', 24682465, 79)\n",
      "('female', 1357913, 83)\n",
      "('male', 13616356, 58)\n",
      "('male', 73464619, 72)\n",
      "('male', 24682465, 79)\n",
      "('female', 1357913, 83)\n",
      "('male', 13616356, 58)\n",
      "('male', 73464619, 72)\n",
      "('male', 123456789, 43)\n",
      "('male', 234567891, 67)\n",
      "('female', 345678912, 52)\n",
      "('male', 567891234, 82)\n",
      "('male', 78912345, 66)\n",
      "('female', 891234567, 55)\n",
      "('female', 912345678, 63)\n",
      "('male', 24682465, 79)\n",
      "('female', 1357913, 83)\n",
      "('male', 13616356, 58)\n",
      "('male', 73464619, 72)\n"
     ]
    }
   ],
   "source": [
    "cur.execute('select * from school')\n",
    "for i in cur:\n",
    "    print(i)"
   ]
  },
  {
   "cell_type": "markdown",
   "id": "5935a933",
   "metadata": {},
   "source": [
    " #### WHERE condition"
   ]
  },
  {
   "cell_type": "code",
   "execution_count": 34,
   "id": "8c1a5b84",
   "metadata": {},
   "outputs": [
    {
     "name": "stdout",
     "output_type": "stream",
     "text": [
      "('male', 123456789, 43)\n"
     ]
    }
   ],
   "source": [
    "sql=\"select distinct * from school where student_id =123456789\"\n",
    "myres=cur.execute(sql)\n",
    "myres=cur.fetchall()\n",
    "for i in myres:\n",
    "    print(i)"
   ]
  },
  {
   "cell_type": "code",
   "execution_count": 35,
   "id": "9d647bbc",
   "metadata": {},
   "outputs": [],
   "source": [
    "cur=db.cursor()"
   ]
  },
  {
   "cell_type": "code",
   "execution_count": 36,
   "id": "736bf5e7",
   "metadata": {},
   "outputs": [
    {
     "name": "stdout",
     "output_type": "stream",
     "text": [
      "('male', 123456789, 43)\n",
      "('male', 234567891, 67)\n",
      "('male', 567891234, 82)\n",
      "('male', 78912345, 66)\n",
      "('male', 24682465, 79)\n",
      "('male', 13616356, 58)\n",
      "('male', 73464619, 72)\n",
      "('male', 24682465, 79)\n",
      "('male', 13616356, 58)\n",
      "('male', 73464619, 72)\n",
      "('male', 123456789, 43)\n",
      "('male', 234567891, 67)\n",
      "('male', 567891234, 82)\n",
      "('male', 78912345, 66)\n",
      "('male', 24682465, 79)\n",
      "('male', 13616356, 58)\n",
      "('male', 73464619, 72)\n"
     ]
    }
   ],
   "source": [
    "sql=\"select * from school where gender ='male'\"\n",
    "res=cur.execute(sql)\n",
    "res=cur.fetchall()\n",
    "\n",
    "for i in res:\n",
    "    print(i)"
   ]
  },
  {
   "cell_type": "code",
   "execution_count": 37,
   "id": "a80f6b3e",
   "metadata": {},
   "outputs": [
    {
     "name": "stdout",
     "output_type": "stream",
     "text": [
      "('female', 345678912, 52)\n"
     ]
    }
   ],
   "source": [
    "sql =\"select distinct * from school where student_id=345678912\"\n",
    "cur.execute(sql)\n",
    "res=cur.fetchall()\n",
    "for i in res:\n",
    "    print(i)"
   ]
  },
  {
   "cell_type": "code",
   "execution_count": 38,
   "id": "5a29450c",
   "metadata": {},
   "outputs": [
    {
     "name": "stdout",
     "output_type": "stream",
     "text": [
      "('female', 1357913, 83)\n",
      "('female', 1357913, 83)\n",
      "('female', 1357913, 83)\n",
      "('male', 567891234, 82)\n",
      "('male', 567891234, 82)\n",
      "('male', 24682465, 79)\n",
      "('male', 24682465, 79)\n",
      "('male', 24682465, 79)\n",
      "('male', 73464619, 72)\n",
      "('male', 73464619, 72)\n",
      "('male', 73464619, 72)\n",
      "('male', 234567891, 67)\n",
      "('male', 234567891, 67)\n",
      "('male', 78912345, 66)\n",
      "('male', 78912345, 66)\n",
      "('female', 912345678, 63)\n",
      "('female', 912345678, 63)\n",
      "('male', 13616356, 58)\n",
      "('male', 13616356, 58)\n",
      "('male', 13616356, 58)\n",
      "('female', 891234567, 55)\n",
      "('female', 891234567, 55)\n",
      "('female', 345678912, 52)\n",
      "('female', 345678912, 52)\n",
      "('male', 123456789, 43)\n",
      "('male', 123456789, 43)\n"
     ]
    }
   ],
   "source": [
    "sql=\"select * from school order by marks desc\"\n",
    "cur.execute(sql)\n",
    "res=cur.fetchall()\n",
    "for i in res:\n",
    "    print(i)"
   ]
  },
  {
   "cell_type": "code",
   "execution_count": 40,
   "id": "6fb9bdac",
   "metadata": {},
   "outputs": [
    {
     "name": "stdout",
     "output_type": "stream",
     "text": [
      "('female', 912345678, 63)\n",
      "('female', 912345678, 63)\n",
      "('female', 891234567, 55)\n",
      "('female', 891234567, 55)\n",
      "('male', 567891234, 82)\n",
      "('male', 567891234, 82)\n",
      "('female', 345678912, 52)\n",
      "('female', 345678912, 52)\n",
      "('male', 234567891, 67)\n",
      "('male', 234567891, 67)\n",
      "('male', 123456789, 43)\n",
      "('male', 123456789, 43)\n",
      "('male', 78912345, 66)\n",
      "('male', 78912345, 66)\n",
      "('male', 73464619, 72)\n",
      "('male', 73464619, 72)\n",
      "('male', 73464619, 72)\n",
      "('male', 24682465, 79)\n",
      "('male', 24682465, 79)\n",
      "('male', 24682465, 79)\n",
      "('male', 13616356, 58)\n",
      "('male', 13616356, 58)\n",
      "('male', 13616356, 58)\n",
      "('female', 1357913, 83)\n",
      "('female', 1357913, 83)\n",
      "('female', 1357913, 83)\n"
     ]
    }
   ],
   "source": [
    "sql=\"select * from school order by student_id desc\"\n",
    "cur.execute(sql)\n",
    "res=cur.fetchall()\n",
    "for i in res:\n",
    "    print(i)"
   ]
  },
  {
   "cell_type": "code",
   "execution_count": 41,
   "id": "7f5fe787",
   "metadata": {},
   "outputs": [
    {
     "name": "stdout",
     "output_type": "stream",
     "text": [
      "('female', 345678912, 52)\n",
      "('female', 891234567, 55)\n",
      "('female', 912345678, 63)\n",
      "('female', 1357913, 83)\n",
      "('female', 1357913, 83)\n",
      "('female', 345678912, 52)\n",
      "('female', 891234567, 55)\n",
      "('female', 912345678, 63)\n",
      "('female', 1357913, 83)\n",
      "('male', 123456789, 43)\n",
      "('male', 234567891, 67)\n",
      "('male', 567891234, 82)\n",
      "('male', 78912345, 66)\n",
      "('male', 24682465, 79)\n",
      "('male', 13616356, 58)\n",
      "('male', 73464619, 72)\n",
      "('male', 24682465, 79)\n",
      "('male', 13616356, 58)\n",
      "('male', 73464619, 72)\n",
      "('male', 123456789, 43)\n",
      "('male', 234567891, 67)\n",
      "('male', 567891234, 82)\n",
      "('male', 78912345, 66)\n",
      "('male', 24682465, 79)\n",
      "('male', 13616356, 58)\n",
      "('male', 73464619, 72)\n"
     ]
    }
   ],
   "source": [
    "sql=\"select * from school order by gender\"\n",
    "cur.execute(sql)\n",
    "res=cur.fetchall()\n",
    "for i in res:\n",
    "    print(i)"
   ]
  },
  {
   "cell_type": "markdown",
   "id": "9af25d5b",
   "metadata": {},
   "source": [
    "#### GROUP BY"
   ]
  },
  {
   "cell_type": "code",
   "execution_count": 43,
   "id": "c8e0a226",
   "metadata": {},
   "outputs": [
    {
     "name": "stdout",
     "output_type": "stream",
     "text": [
      "(17, 'male')\n",
      "(9, 'female')\n"
     ]
    }
   ],
   "source": [
    "sql=\"select count(student_id),gender from school group by gender\"\n",
    "cur.execute(sql)\n",
    "res=cur.fetchall()\n",
    "for x in res:\n",
    "    print(x)"
   ]
  },
  {
   "cell_type": "code",
   "execution_count": 44,
   "id": "9e10d5c1",
   "metadata": {},
   "outputs": [
    {
     "name": "stdout",
     "output_type": "stream",
     "text": [
      "(Decimal('1143'), 'male')\n",
      "(Decimal('589'), 'female')\n"
     ]
    }
   ],
   "source": [
    "sql=\"select sum(marks),gender from school group by gender\"\n",
    "cur.execute(sql)\n",
    "res=cur.fetchall()\n",
    "for x in res:\n",
    "    print(x)"
   ]
  },
  {
   "cell_type": "code",
   "execution_count": 45,
   "id": "64147ee4",
   "metadata": {},
   "outputs": [
    {
     "name": "stdout",
     "output_type": "stream",
     "text": [
      "(Decimal('67.2353'), 'male')\n",
      "(Decimal('65.4444'), 'female')\n"
     ]
    }
   ],
   "source": [
    "sql=\"select avg(marks),gender from school group by gender\"\n",
    "cur.execute(sql)\n",
    "res=cur.fetchall()\n",
    "for i in res:\n",
    "    print(i)"
   ]
  },
  {
   "cell_type": "markdown",
   "id": "4640834c",
   "metadata": {},
   "source": [
    "#### HAVING CLAUSE"
   ]
  },
  {
   "cell_type": "code",
   "execution_count": 46,
   "id": "c96379db",
   "metadata": {},
   "outputs": [
    {
     "name": "stdout",
     "output_type": "stream",
     "text": [
      "(17, Decimal('67.2353'), 'male')\n",
      "(9, Decimal('65.4444'), 'female')\n"
     ]
    }
   ],
   "source": [
    "sql=\"select count(gender),avg(marks),gender from school group by gender having count(gender)>8\"\n",
    "cur.execute(sql)\n",
    "res=cur.fetchall()\n",
    "for i in res:\n",
    "    print(i)"
   ]
  },
  {
   "cell_type": "markdown",
   "id": "5afe3aac",
   "metadata": {},
   "source": [
    "#### update table"
   ]
  },
  {
   "cell_type": "code",
   "execution_count": 50,
   "id": "b6f6c868",
   "metadata": {},
   "outputs": [],
   "source": [
    "sql=\"update school set marks =100 where student_id=891234567\"\n",
    "cur.execute(sql)\n",
    "res=cur.fetchall()\n",
    "for i in res:\n",
    "    print(i)"
   ]
  },
  {
   "cell_type": "code",
   "execution_count": 51,
   "id": "d9634c70",
   "metadata": {},
   "outputs": [],
   "source": [
    "db.commit()"
   ]
  },
  {
   "cell_type": "code",
   "execution_count": 52,
   "id": "6b8f4fac",
   "metadata": {},
   "outputs": [
    {
     "name": "stdout",
     "output_type": "stream",
     "text": [
      "2 records updated\n"
     ]
    }
   ],
   "source": [
    "print(cur.rowcount,\"records updated\")"
   ]
  },
  {
   "cell_type": "code",
   "execution_count": 54,
   "id": "2d0d46af",
   "metadata": {},
   "outputs": [
    {
     "name": "stdout",
     "output_type": "stream",
     "text": [
      "('male', 123456789, 43)\n",
      "('male', 234567891, 67)\n",
      "('female', 345678912, 52)\n",
      "('male', 567891234, 82)\n",
      "('male', 78912345, 66)\n",
      "('female', 891234567, 100)\n",
      "('female', 912345678, 63)\n",
      "('male', 24682465, 79)\n",
      "('female', 1357913, 83)\n",
      "('male', 13616356, 58)\n",
      "('male', 73464619, 72)\n",
      "('male', 24682465, 79)\n",
      "('female', 1357913, 83)\n",
      "('male', 13616356, 58)\n",
      "('male', 73464619, 72)\n",
      "('male', 123456789, 43)\n",
      "('male', 234567891, 67)\n",
      "('female', 345678912, 52)\n",
      "('male', 567891234, 82)\n",
      "('male', 78912345, 66)\n",
      "('female', 891234567, 100)\n",
      "('female', 912345678, 63)\n",
      "('male', 24682465, 79)\n",
      "('female', 1357913, 83)\n",
      "('male', 13616356, 58)\n",
      "('male', 73464619, 72)\n"
     ]
    }
   ],
   "source": [
    "sql=\"select * from school\"\n",
    "cur.execute(sql)\n",
    "res=cur.fetchall()\n",
    "for i in res:\n",
    "    print(i)"
   ]
  },
  {
   "cell_type": "markdown",
   "id": "d23a22aa",
   "metadata": {},
   "source": [
    "#### limit\n",
    "\n",
    "it accepcts 1 or 2 arguments the values of both argument must be zero or positive integer "
   ]
  },
  {
   "cell_type": "code",
   "execution_count": 58,
   "id": "75a9e7a8",
   "metadata": {},
   "outputs": [
    {
     "name": "stdout",
     "output_type": "stream",
     "text": [
      "('male', 123456789, 43)\n",
      "('male', 234567891, 67)\n",
      "('female', 345678912, 52)\n",
      "('male', 567891234, 82)\n",
      "('male', 78912345, 66)\n",
      "('female', 891234567, 100)\n"
     ]
    }
   ],
   "source": [
    "sql=\"select * from school limit 6\"\n",
    "cur.execute(sql)\n",
    "res=cur.fetchall()\n",
    "for i in res:\n",
    "    print(i)"
   ]
  },
  {
   "cell_type": "code",
   "execution_count": 60,
   "id": "9f29db58",
   "metadata": {},
   "outputs": [
    {
     "name": "stdout",
     "output_type": "stream",
     "text": [
      "('female', 912345678, 63)\n",
      "('male', 24682465, 79)\n",
      "('female', 1357913, 83)\n",
      "('male', 13616356, 58)\n",
      "('male', 73464619, 72)\n",
      "('male', 24682465, 79)\n",
      "('female', 1357913, 83)\n"
     ]
    }
   ],
   "source": [
    "sql=\"select * from school limit 6,7\"\n",
    "cur.execute(sql)\n",
    "res=cur.fetchall()\n",
    "for i in res:\n",
    "    print(i)"
   ]
  },
  {
   "cell_type": "markdown",
   "id": "b454e620",
   "metadata": {},
   "source": [
    "#### OPERTORS"
   ]
  },
  {
   "cell_type": "markdown",
   "id": "6ec6fa48",
   "metadata": {},
   "source": [
    "#### IN\n",
    "IN operator to determine if a specified value matches any value in a list or sub query"
   ]
  },
  {
   "cell_type": "code",
   "execution_count": 13,
   "id": "d1e0b1e9",
   "metadata": {},
   "outputs": [
    {
     "name": "stdout",
     "output_type": "stream",
     "text": [
      "('male', 567891234, 82)\n",
      "('male', 567891234, 82)\n"
     ]
    }
   ],
   "source": [
    "sql=\"select * from school where marks in(62,82,77,45)\"\n",
    "cur.execute(sql)\n",
    "res=cur.fetchall()\n",
    "for i in res:\n",
    "    print(i)"
   ]
  },
  {
   "cell_type": "markdown",
   "id": "e51f7c41",
   "metadata": {},
   "source": [
    "#### BETWEEN"
   ]
  },
  {
   "cell_type": "code",
   "execution_count": 16,
   "id": "bfafe59b",
   "metadata": {},
   "outputs": [
    {
     "name": "stdout",
     "output_type": "stream",
     "text": [
      "('male', 234567891, 67)\n",
      "('female', 345678912, 52)\n",
      "('male', 78912345, 66)\n",
      "('female', 912345678, 63)\n",
      "('male', 24682465, 79)\n",
      "('male', 13616356, 58)\n",
      "('male', 73464619, 72)\n",
      "('male', 24682465, 79)\n",
      "('male', 13616356, 58)\n",
      "('male', 73464619, 72)\n",
      "('male', 234567891, 67)\n",
      "('female', 345678912, 52)\n",
      "('male', 78912345, 66)\n",
      "('female', 912345678, 63)\n",
      "('male', 24682465, 79)\n",
      "('male', 13616356, 58)\n",
      "('male', 73464619, 72)\n"
     ]
    }
   ],
   "source": [
    "sql=\"select * from school where marks between 50 and 80\"\n",
    "cur.execute(sql)\n",
    "res=cur.fetchall()\n",
    "for i in res:\n",
    "    print(i)"
   ]
  },
  {
   "cell_type": "markdown",
   "id": "28e7b0d5",
   "metadata": {},
   "source": [
    "#### LIKE\n",
    "like operator to query data on a specified pattern"
   ]
  },
  {
   "cell_type": "code",
   "execution_count": 17,
   "id": "7a7bdd40",
   "metadata": {},
   "outputs": [
    {
     "name": "stdout",
     "output_type": "stream",
     "text": [
      "('male', 24682465, 79)\n",
      "('male', 73464619, 72)\n",
      "('male', 24682465, 79)\n",
      "('male', 73464619, 72)\n",
      "('male', 24682465, 79)\n",
      "('male', 73464619, 72)\n"
     ]
    }
   ],
   "source": [
    "sql= \"select * from school where marks like '7%'\"\n",
    "cur.execute(sql)\n",
    "res=cur.fetchall()\n",
    "for i in res:\n",
    "    print(i)"
   ]
  },
  {
   "cell_type": "code",
   "execution_count": 18,
   "id": "2ce7738e",
   "metadata": {},
   "outputs": [
    {
     "name": "stdout",
     "output_type": "stream",
     "text": [
      "('male', 123456789, 43)\n",
      "('female', 912345678, 63)\n",
      "('female', 1357913, 83)\n",
      "('female', 1357913, 83)\n",
      "('male', 123456789, 43)\n",
      "('female', 912345678, 63)\n",
      "('female', 1357913, 83)\n"
     ]
    }
   ],
   "source": [
    "sql=\"select * from school where marks like '%3'\"\n",
    "cur.execute(sql)\n",
    "res=cur.fetchall()\n",
    "for i in res:\n",
    "    print(i)"
   ]
  },
  {
   "cell_type": "markdown",
   "id": "00b587a5",
   "metadata": {},
   "source": [
    "#### Comparision Operator\n",
    "Equal to '='\n",
    "Greater Than '>'\n",
    "Less than '<'\n",
    "Greater than equal to '>='\n",
    "Less than equal to '<='\n",
    "Not equal to '!='"
   ]
  },
  {
   "cell_type": "code",
   "execution_count": 20,
   "id": "d6c8fcb9",
   "metadata": {},
   "outputs": [
    {
     "name": "stdout",
     "output_type": "stream",
     "text": [
      "('male', 234567891, 67)\n",
      "('male', 234567891, 67)\n"
     ]
    }
   ],
   "source": [
    "sql= \"select * from school where marks=67\"\n",
    "cur.execute(sql)\n",
    "res=cur.fetchall()\n",
    "for i in res:\n",
    "    print(i)"
   ]
  },
  {
   "cell_type": "code",
   "execution_count": 21,
   "id": "d8d66eb4",
   "metadata": {},
   "outputs": [
    {
     "name": "stdout",
     "output_type": "stream",
     "text": [
      "('male', 567891234, 82)\n",
      "('female', 891234567, 100)\n",
      "('male', 24682465, 79)\n",
      "('female', 1357913, 83)\n",
      "('male', 24682465, 79)\n",
      "('female', 1357913, 83)\n",
      "('male', 567891234, 82)\n",
      "('female', 891234567, 100)\n",
      "('male', 24682465, 79)\n",
      "('female', 1357913, 83)\n"
     ]
    }
   ],
   "source": [
    "sql=\"select * from school where marks >= 77\"\n",
    "cur.execute(sql)\n",
    "res=cur.fetchall()\n",
    "for i in res:\n",
    "    print(i)"
   ]
  },
  {
   "cell_type": "code",
   "execution_count": 22,
   "id": "8718bb21",
   "metadata": {},
   "outputs": [
    {
     "name": "stdout",
     "output_type": "stream",
     "text": [
      "('male', 123456789, 43)\n",
      "('male', 234567891, 67)\n",
      "('female', 345678912, 52)\n",
      "('male', 567891234, 82)\n",
      "('male', 78912345, 66)\n",
      "('female', 891234567, 100)\n",
      "('female', 912345678, 63)\n",
      "('male', 24682465, 79)\n",
      "('female', 1357913, 83)\n",
      "('male', 13616356, 58)\n",
      "('male', 73464619, 72)\n",
      "('male', 24682465, 79)\n",
      "('female', 1357913, 83)\n",
      "('male', 13616356, 58)\n",
      "('male', 73464619, 72)\n",
      "('male', 123456789, 43)\n",
      "('male', 234567891, 67)\n",
      "('female', 345678912, 52)\n",
      "('male', 567891234, 82)\n",
      "('male', 78912345, 66)\n",
      "('female', 891234567, 100)\n",
      "('female', 912345678, 63)\n",
      "('male', 24682465, 79)\n",
      "('female', 1357913, 83)\n",
      "('male', 13616356, 58)\n",
      "('male', 73464619, 72)\n"
     ]
    }
   ],
   "source": [
    "sql=\"select * from school where marks<>50\"\n",
    "cur.execute(sql)\n",
    "res=cur.fetchall()\n",
    "for i in res:\n",
    "    print(i)"
   ]
  },
  {
   "cell_type": "markdown",
   "id": "f4673ae1",
   "metadata": {},
   "source": [
    "#### Logical Operators\n",
    "\n",
    "AND\n",
    "\n",
    "OR \n",
    "\n",
    "NOT NULL"
   ]
  },
  {
   "cell_type": "code",
   "execution_count": 24,
   "id": "2df560f4",
   "metadata": {},
   "outputs": [
    {
     "name": "stdout",
     "output_type": "stream",
     "text": [
      "('female', 891234567, 100)\n",
      "('female', 1357913, 83)\n",
      "('female', 1357913, 83)\n",
      "('female', 891234567, 100)\n",
      "('female', 1357913, 83)\n"
     ]
    }
   ],
   "source": [
    "#AND operator to combine multiple boolean operator to filter data\n",
    "\n",
    "sql=\"select * from school where gender = 'female' and marks >68\"\n",
    "cur.execute(sql)\n",
    "res=cur.fetchall()\n",
    "for i in res:\n",
    "    print(i)"
   ]
  },
  {
   "cell_type": "code",
   "execution_count": 27,
   "id": "21ce8dde",
   "metadata": {},
   "outputs": [
    {
     "data": {
      "text/plain": [
       "[]"
      ]
     },
     "execution_count": 27,
     "metadata": {},
     "output_type": "execute_result"
    }
   ],
   "source": [
    "sql=\"select * from school where gender ='male' and marks >=82 and student_id > 789123456\"\n",
    "cur.execute(sql)\n",
    "cur.fetchall()"
   ]
  },
  {
   "cell_type": "code",
   "execution_count": 28,
   "id": "008efb03",
   "metadata": {},
   "outputs": [
    {
     "data": {
      "text/plain": [
       "[('male', 567891234, 82),\n",
       " ('female', 891234567, 100),\n",
       " ('female', 912345678, 63),\n",
       " ('male', 567891234, 82),\n",
       " ('female', 891234567, 100),\n",
       " ('female', 912345678, 63)]"
      ]
     },
     "execution_count": 28,
     "metadata": {},
     "output_type": "execute_result"
    }
   ],
   "source": [
    "# or operator is used to combine boolean opoeration for filtering ddata\n",
    "sql=\"select * from school where gender ='male' and marks >=82 or student_id > 789123456\"\n",
    "cur.execute(sql)\n",
    "cur.fetchall()"
   ]
  },
  {
   "cell_type": "code",
   "execution_count": 29,
   "id": "6b122b39",
   "metadata": {},
   "outputs": [
    {
     "data": {
      "text/plain": [
       "[('male', 123456789, 43),\n",
       " ('male', 234567891, 67),\n",
       " ('male', 567891234, 82),\n",
       " ('male', 78912345, 66),\n",
       " ('female', 891234567, 100),\n",
       " ('female', 912345678, 63),\n",
       " ('male', 24682465, 79),\n",
       " ('female', 1357913, 83),\n",
       " ('male', 13616356, 58),\n",
       " ('male', 73464619, 72),\n",
       " ('male', 24682465, 79),\n",
       " ('female', 1357913, 83),\n",
       " ('male', 13616356, 58),\n",
       " ('male', 73464619, 72),\n",
       " ('male', 123456789, 43),\n",
       " ('male', 234567891, 67),\n",
       " ('male', 567891234, 82),\n",
       " ('male', 78912345, 66),\n",
       " ('female', 891234567, 100),\n",
       " ('female', 912345678, 63),\n",
       " ('male', 24682465, 79),\n",
       " ('female', 1357913, 83),\n",
       " ('male', 13616356, 58),\n",
       " ('male', 73464619, 72)]"
      ]
     },
     "execution_count": 29,
     "metadata": {},
     "output_type": "execute_result"
    }
   ],
   "source": [
    "sql=\"select * from school where gender ='male' or marks >=82 or student_id > 789123456\"\n",
    "cur.execute(sql)\n",
    "cur.fetchall()"
   ]
  },
  {
   "cell_type": "code",
   "execution_count": 30,
   "id": "8c34985d",
   "metadata": {},
   "outputs": [
    {
     "name": "stdout",
     "output_type": "stream",
     "text": [
      "('male', 123456789, 43)\n",
      "('male', 234567891, 67)\n",
      "('female', 345678912, 52)\n",
      "('male', 567891234, 82)\n",
      "('male', 78912345, 66)\n",
      "('female', 891234567, 100)\n",
      "('female', 912345678, 63)\n",
      "('male', 24682465, 79)\n",
      "('female', 1357913, 83)\n",
      "('male', 13616356, 58)\n",
      "('male', 73464619, 72)\n",
      "('male', 24682465, 79)\n",
      "('female', 1357913, 83)\n",
      "('male', 13616356, 58)\n",
      "('male', 73464619, 72)\n",
      "('male', 123456789, 43)\n",
      "('male', 234567891, 67)\n",
      "('female', 345678912, 52)\n",
      "('male', 567891234, 82)\n",
      "('male', 78912345, 66)\n",
      "('female', 891234567, 100)\n",
      "('female', 912345678, 63)\n",
      "('male', 24682465, 79)\n",
      "('female', 1357913, 83)\n",
      "('male', 13616356, 58)\n",
      "('male', 73464619, 72)\n"
     ]
    }
   ],
   "source": [
    "# not null is to filter data on checking null\n",
    "sql=\"select * from school where marks is not null\"\n",
    "cur.execute(sql)\n",
    "res=cur.fetchall()\n",
    "for i in res:\n",
    "    print(i)"
   ]
  },
  {
   "cell_type": "markdown",
   "id": "0dd4e720",
   "metadata": {},
   "source": [
    "#### Aggrigate Functions\n",
    "COUNT\n",
    "MIN\n",
    "MAX\n",
    "AVG\n",
    "SUM"
   ]
  },
  {
   "cell_type": "code",
   "execution_count": 31,
   "id": "c772e1d6",
   "metadata": {},
   "outputs": [
    {
     "data": {
      "text/plain": [
       "[(26,)]"
      ]
     },
     "execution_count": 31,
     "metadata": {},
     "output_type": "execute_result"
    }
   ],
   "source": [
    "sql=\"select count(student_id) from school \"\n",
    "cur.execute(sql)\n",
    "cur.fetchall()"
   ]
  },
  {
   "cell_type": "code",
   "execution_count": 33,
   "id": "c36cdc62",
   "metadata": {},
   "outputs": [
    {
     "data": {
      "text/plain": [
       "[(43,)]"
      ]
     },
     "execution_count": 33,
     "metadata": {},
     "output_type": "execute_result"
    }
   ],
   "source": [
    "sql=\"select min(marks) from school\"\n",
    "cur.execute(sql)\n",
    "cur.fetchall()"
   ]
  },
  {
   "cell_type": "code",
   "execution_count": 34,
   "id": "3422f8e0",
   "metadata": {},
   "outputs": [
    {
     "data": {
      "text/plain": [
       "[(100,)]"
      ]
     },
     "execution_count": 34,
     "metadata": {},
     "output_type": "execute_result"
    }
   ],
   "source": [
    "sql=\"select max(marks) from school\"\n",
    "cur.execute(sql)\n",
    "cur.fetchall()"
   ]
  },
  {
   "cell_type": "code",
   "execution_count": 37,
   "id": "36a02fe1",
   "metadata": {},
   "outputs": [
    {
     "data": {
      "text/plain": [
       "[(Decimal('70.0769'),)]"
      ]
     },
     "execution_count": 37,
     "metadata": {},
     "output_type": "execute_result"
    }
   ],
   "source": [
    "sql=\"select avg(marks) from school\"\n",
    "cur.execute(sql)\n",
    "cur.fetchall()"
   ]
  },
  {
   "cell_type": "code",
   "execution_count": 38,
   "id": "aa4256b5",
   "metadata": {},
   "outputs": [
    {
     "data": {
      "text/plain": [
       "[(Decimal('1822'),)]"
      ]
     },
     "execution_count": 38,
     "metadata": {},
     "output_type": "execute_result"
    }
   ],
   "source": [
    "sql=\"select sum(marks) from school\"\n",
    "cur.execute(sql)\n",
    "cur.fetchall()"
   ]
  },
  {
   "cell_type": "code",
   "execution_count": 42,
   "id": "f7c7402f",
   "metadata": {},
   "outputs": [
    {
     "data": {
      "text/plain": [
       "[(26, Decimal('70.0769'))]"
      ]
     },
     "execution_count": 42,
     "metadata": {},
     "output_type": "execute_result"
    }
   ],
   "source": [
    "sql=\"select count(gender), avg(marks) from school\"\n",
    "cur.execute(sql)\n",
    "cur.fetchall()"
   ]
  },
  {
   "cell_type": "code",
   "execution_count": 45,
   "id": "4944ce12",
   "metadata": {},
   "outputs": [
    {
     "data": {
      "text/plain": [
       "[(Decimal('679'),)]"
      ]
     },
     "execution_count": 45,
     "metadata": {},
     "output_type": "execute_result"
    }
   ],
   "source": [
    "sql=\"select sum(marks) from school where gender='female' \"\n",
    "cur.execute(sql)\n",
    "cur.fetchall()"
   ]
  },
  {
   "cell_type": "code",
   "execution_count": 46,
   "id": "6e0d6a28",
   "metadata": {},
   "outputs": [
    {
     "data": {
      "text/plain": [
       "[(Decimal('1143'),)]"
      ]
     },
     "execution_count": 46,
     "metadata": {},
     "output_type": "execute_result"
    }
   ],
   "source": [
    "sql=\"select sum(marks) from school where gender='male'\"\n",
    "cur.execute(sql)\n",
    "cur.fetchall()"
   ]
  },
  {
   "cell_type": "code",
   "execution_count": 47,
   "id": "09021708",
   "metadata": {},
   "outputs": [
    {
     "data": {
      "text/plain": [
       "[(82,)]"
      ]
     },
     "execution_count": 47,
     "metadata": {},
     "output_type": "execute_result"
    }
   ],
   "source": [
    "sql=\"select max(marks) from school where gender='male'\"\n",
    "cur.execute(sql)\n",
    "cur.fetchall()"
   ]
  },
  {
   "cell_type": "code",
   "execution_count": 48,
   "id": "eb0b29b8",
   "metadata": {},
   "outputs": [
    {
     "data": {
      "text/plain": [
       "[(100,)]"
      ]
     },
     "execution_count": 48,
     "metadata": {},
     "output_type": "execute_result"
    }
   ],
   "source": [
    "sql=\"select max(marks) from school where gender = 'female' \"\n",
    "cur.execute(sql)\n",
    "cur.fetchall()"
   ]
  },
  {
   "cell_type": "markdown",
   "id": "0222c286",
   "metadata": {},
   "source": [
    "#### JOINS\n",
    "Used to join two or more tables"
   ]
  },
  {
   "cell_type": "code",
   "execution_count": 49,
   "id": "e2b0cf46",
   "metadata": {},
   "outputs": [
    {
     "data": {
      "text/plain": [
       "[('school',)]"
      ]
     },
     "execution_count": 49,
     "metadata": {},
     "output_type": "execute_result"
    }
   ],
   "source": [
    "cur.execute('show tables')\n",
    "cur.fetchall()"
   ]
  },
  {
   "cell_type": "code",
   "execution_count": 50,
   "id": "4c409199",
   "metadata": {},
   "outputs": [
    {
     "data": {
      "text/plain": [
       "[]"
      ]
     },
     "execution_count": 50,
     "metadata": {},
     "output_type": "execute_result"
    }
   ],
   "source": [
    "cur.execute('create table marks (name varchar(10),student_id int(10),score int(3))')\n",
    "cur.fetchall()"
   ]
  },
  {
   "cell_type": "code",
   "execution_count": 51,
   "id": "95d52111",
   "metadata": {},
   "outputs": [],
   "source": [
    "db.commit()"
   ]
  },
  {
   "cell_type": "code",
   "execution_count": 53,
   "id": "90d5ca65",
   "metadata": {},
   "outputs": [],
   "source": [
    "cur.execute(\"insert into marks values('Alia',345678912,47),('Tarun',678912345,63),('Frankie',456789123,73),('Kanak',891234567,46),('Yashika',234567891,74)\")\n",
    "cur.fetchall()\n",
    "db.commit()"
   ]
  },
  {
   "cell_type": "code",
   "execution_count": 54,
   "id": "61760c1d",
   "metadata": {},
   "outputs": [
    {
     "data": {
      "text/plain": [
       "[('male', 123456789, 43),\n",
       " ('male', 234567891, 67),\n",
       " ('female', 345678912, 52),\n",
       " ('male', 567891234, 82),\n",
       " ('male', 78912345, 66),\n",
       " ('female', 891234567, 100),\n",
       " ('female', 912345678, 63),\n",
       " ('male', 24682465, 79),\n",
       " ('female', 1357913, 83),\n",
       " ('male', 13616356, 58),\n",
       " ('male', 73464619, 72),\n",
       " ('male', 24682465, 79),\n",
       " ('female', 1357913, 83),\n",
       " ('male', 13616356, 58),\n",
       " ('male', 73464619, 72),\n",
       " ('male', 123456789, 43),\n",
       " ('male', 234567891, 67),\n",
       " ('female', 345678912, 52),\n",
       " ('male', 567891234, 82),\n",
       " ('male', 78912345, 66),\n",
       " ('female', 891234567, 100),\n",
       " ('female', 912345678, 63),\n",
       " ('male', 24682465, 79),\n",
       " ('female', 1357913, 83),\n",
       " ('male', 13616356, 58),\n",
       " ('male', 73464619, 72)]"
      ]
     },
     "execution_count": 54,
     "metadata": {},
     "output_type": "execute_result"
    }
   ],
   "source": [
    "cur.execute(\"select * from school\")\n",
    "cur.fetchall()"
   ]
  },
  {
   "cell_type": "code",
   "execution_count": 55,
   "id": "21916ddc",
   "metadata": {},
   "outputs": [
    {
     "data": {
      "text/plain": [
       "[('Alia', 345678912, 47),\n",
       " ('Tarun', 678912345, 63),\n",
       " ('Frankie', 456789123, 73),\n",
       " ('Kanak', 891234567, 46),\n",
       " ('Yashika', 234567891, 74),\n",
       " ('Alia', 345678912, 47),\n",
       " ('Tarun', 678912345, 63),\n",
       " ('Frankie', 456789123, 73),\n",
       " ('Kanak', 891234567, 46),\n",
       " ('Yashika', 234567891, 74)]"
      ]
     },
     "execution_count": 55,
     "metadata": {},
     "output_type": "execute_result"
    }
   ],
   "source": [
    "cur.execute(\"select * from marks\")\n",
    "cur.fetchall()"
   ]
  },
  {
   "cell_type": "code",
   "execution_count": 58,
   "id": "d825fc1a",
   "metadata": {},
   "outputs": [
    {
     "data": {
      "text/plain": [
       "[(234567891, 'male', 'Yashika', 74),\n",
       " (234567891, 'male', 'Yashika', 74),\n",
       " (345678912, 'female', 'Alia', 47),\n",
       " (345678912, 'female', 'Alia', 47),\n",
       " (891234567, 'female', 'Kanak', 46),\n",
       " (891234567, 'female', 'Kanak', 46),\n",
       " (234567891, 'male', 'Yashika', 74),\n",
       " (234567891, 'male', 'Yashika', 74),\n",
       " (345678912, 'female', 'Alia', 47),\n",
       " (345678912, 'female', 'Alia', 47),\n",
       " (891234567, 'female', 'Kanak', 46),\n",
       " (891234567, 'female', 'Kanak', 46)]"
      ]
     },
     "execution_count": 58,
     "metadata": {},
     "output_type": "execute_result"
    }
   ],
   "source": [
    "#Inner join matches each row in one table with every row in other table and allows you to query\n",
    "sql=\"select school.student_id,school.gender,marks.name,marks.score from school inner join marks on school.student_id = marks.student_id\"\n",
    "cur.execute(sql)\n",
    "cur.fetchall()"
   ]
  },
  {
   "cell_type": "code",
   "execution_count": 59,
   "id": "9a14ddd5",
   "metadata": {},
   "outputs": [
    {
     "data": {
      "text/plain": [
       "[(345678912, 'female', 'Alia', 47),\n",
       " (345678912, 'female', 'Alia', 47),\n",
       " (None, None, 'Tarun', 63),\n",
       " (None, None, 'Frankie', 73),\n",
       " (891234567, 'female', 'Kanak', 46),\n",
       " (891234567, 'female', 'Kanak', 46),\n",
       " (234567891, 'male', 'Yashika', 74),\n",
       " (234567891, 'male', 'Yashika', 74),\n",
       " (345678912, 'female', 'Alia', 47),\n",
       " (345678912, 'female', 'Alia', 47),\n",
       " (None, None, 'Tarun', 63),\n",
       " (None, None, 'Frankie', 73),\n",
       " (891234567, 'female', 'Kanak', 46),\n",
       " (891234567, 'female', 'Kanak', 46),\n",
       " (234567891, 'male', 'Yashika', 74),\n",
       " (234567891, 'male', 'Yashika', 74)]"
      ]
     },
     "execution_count": 59,
     "metadata": {},
     "output_type": "execute_result"
    }
   ],
   "source": [
    "# Right join will return matching and non matching with name\n",
    "sql=\"select school.student_id,school.gender,marks.name,marks.score from school right join marks on school.student_id = marks.student_id\"\n",
    "cur.execute(sql)\n",
    "cur.fetchall()"
   ]
  },
  {
   "cell_type": "code",
   "execution_count": 60,
   "id": "5a9c0c10",
   "metadata": {},
   "outputs": [
    {
     "data": {
      "text/plain": [
       "[(123456789, 'male', None, None),\n",
       " (234567891, 'male', 'Yashika', 74),\n",
       " (234567891, 'male', 'Yashika', 74),\n",
       " (345678912, 'female', 'Alia', 47),\n",
       " (345678912, 'female', 'Alia', 47),\n",
       " (567891234, 'male', None, None),\n",
       " (78912345, 'male', None, None),\n",
       " (891234567, 'female', 'Kanak', 46),\n",
       " (891234567, 'female', 'Kanak', 46),\n",
       " (912345678, 'female', None, None),\n",
       " (24682465, 'male', None, None),\n",
       " (1357913, 'female', None, None),\n",
       " (13616356, 'male', None, None),\n",
       " (73464619, 'male', None, None),\n",
       " (24682465, 'male', None, None),\n",
       " (1357913, 'female', None, None),\n",
       " (13616356, 'male', None, None),\n",
       " (73464619, 'male', None, None),\n",
       " (123456789, 'male', None, None),\n",
       " (234567891, 'male', 'Yashika', 74),\n",
       " (234567891, 'male', 'Yashika', 74),\n",
       " (345678912, 'female', 'Alia', 47),\n",
       " (345678912, 'female', 'Alia', 47),\n",
       " (567891234, 'male', None, None),\n",
       " (78912345, 'male', None, None),\n",
       " (891234567, 'female', 'Kanak', 46),\n",
       " (891234567, 'female', 'Kanak', 46),\n",
       " (912345678, 'female', None, None),\n",
       " (24682465, 'male', None, None),\n",
       " (1357913, 'female', None, None),\n",
       " (13616356, 'male', None, None),\n",
       " (73464619, 'male', None, None)]"
      ]
     },
     "execution_count": 60,
     "metadata": {},
     "output_type": "execute_result"
    }
   ],
   "source": [
    "#Left Join It selects data starting from the left table .It matches each row from the left table with every row from the right table based on the join condition\n",
    "sql=\"select school.student_id,school.gender,marks.name,marks.score from school left join marks on school.student_id = marks.student_id\"\n",
    "cur.execute(sql)\n",
    "cur.fetchall()"
   ]
  },
  {
   "cell_type": "markdown",
   "id": "9b0ed4c4",
   "metadata": {},
   "source": [
    "#### PRIMARY KEY FOREIGN KEY"
   ]
  },
  {
   "cell_type": "markdown",
   "id": "6b74972f",
   "metadata": {},
   "source": [
    "#### SUB QUERY AND NESTED QUERY"
   ]
  },
  {
   "cell_type": "code",
   "execution_count": 63,
   "id": "1f3c1d6f",
   "metadata": {},
   "outputs": [
    {
     "data": {
      "text/plain": [
       "[(234567891, 'male'),\n",
       " (345678912, 'female'),\n",
       " (891234567, 'female'),\n",
       " (234567891, 'male'),\n",
       " (345678912, 'female'),\n",
       " (891234567, 'female')]"
      ]
     },
     "execution_count": 63,
     "metadata": {},
     "output_type": "execute_result"
    }
   ],
   "source": [
    "sql=\"select student_id, gender from school where student_id in(select student_id from marks where marks >50)\"\n",
    "cur.execute(sql)\n",
    "cur.fetchall()"
   ]
  },
  {
   "cell_type": "code",
   "execution_count": null,
   "id": "1ec3de0e",
   "metadata": {},
   "outputs": [],
   "source": []
  }
 ],
 "metadata": {
  "kernelspec": {
   "display_name": "Python 3 (ipykernel)",
   "language": "python",
   "name": "python3"
  },
  "language_info": {
   "codemirror_mode": {
    "name": "ipython",
    "version": 3
   },
   "file_extension": ".py",
   "mimetype": "text/x-python",
   "name": "python",
   "nbconvert_exporter": "python",
   "pygments_lexer": "ipython3",
   "version": "3.9.13"
  }
 },
 "nbformat": 4,
 "nbformat_minor": 5
}
